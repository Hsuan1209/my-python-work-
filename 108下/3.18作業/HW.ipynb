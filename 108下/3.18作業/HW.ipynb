{
 "cells": [
  {
   "cell_type": "code",
   "execution_count": 1,
   "metadata": {},
   "outputs": [],
   "source": [
    "%matplotlib inline\n",
    "\n",
    "import numpy as np\n",
    "import matplotlib.pyplot as plt"
   ]
  },
  {
   "cell_type": "markdown",
   "metadata": {},
   "source": [
    "# 1. 讀入 Fashion MNSIT 數據集"
   ]
  },
  {
   "cell_type": "code",
   "execution_count": 2,
   "metadata": {},
   "outputs": [],
   "source": [
    "from tensorflow.keras.datasets import fashion_mnist"
   ]
  },
  {
   "cell_type": "code",
   "execution_count": 59,
   "metadata": {},
   "outputs": [],
   "source": [
    "(x_train, y_train), (x_test, y_test) = fashion_mnist.load_data()"
   ]
  },
  {
   "cell_type": "markdown",
   "metadata": {},
   "source": [
    "# 2. 欣賞數據集內容"
   ]
  },
  {
   "cell_type": "code",
   "execution_count": 8,
   "metadata": {},
   "outputs": [
    {
     "data": {
      "text/plain": [
       "60000"
      ]
     },
     "execution_count": 8,
     "metadata": {},
     "output_type": "execute_result"
    }
   ],
   "source": [
    "len(x_train)"
   ]
  },
  {
   "cell_type": "code",
   "execution_count": 9,
   "metadata": {},
   "outputs": [
    {
     "data": {
      "text/plain": [
       "10000"
      ]
     },
     "execution_count": 9,
     "metadata": {},
     "output_type": "execute_result"
    }
   ],
   "source": [
    "len(x_test)"
   ]
  },
  {
   "cell_type": "code",
   "execution_count": 62,
   "metadata": {},
   "outputs": [],
   "source": [
    "n = 2609"
   ]
  },
  {
   "cell_type": "code",
   "execution_count": 63,
   "metadata": {},
   "outputs": [
    {
     "data": {
      "text/plain": [
       "array([[  0,   0,   0,   0,   0,   0,   0,   0,   0,   0,   0,   0,   0,\n",
       "          0,   0,   0,   0,   0,   0,   0,   0,   0,   0,   0,   0,   0,\n",
       "          0,   0],\n",
       "       [  0,   0,   0,   0,   0,   0,   0,   0,   0,   0,   0,   0,   0,\n",
       "          0,   0,   0,   0,   0,   0,   0,   0,   0,   0,   0,   0,   0,\n",
       "          0,   0],\n",
       "       [  0,   0,   0,   0,   0,   0,   0,   0,   0,   0,   0,   0,   0,\n",
       "          0,   0,   0,   0,   0,   0,   0,   0,   0,   0,   0,   0,   0,\n",
       "          0,   0],\n",
       "       [  0,   0,   0,   0,   0,   0,   0,   0,   0,   0,   0,   0,   0,\n",
       "          0,   0,   0,   0,   0,   0,   0,   0,   0,   0,   0,   0,   0,\n",
       "          0,   0],\n",
       "       [  0,   0,   0,   0,   0,   0,   0,   0,   0,   0,   0,   0,   0,\n",
       "          0,   0,   0,   0,   0,   0,   0,   0,   0,   0, 100,  79,  23,\n",
       "          0,   0],\n",
       "       [  0,   0,   0,   0,   0,   0,   0,   0,   0,   0,   0,   1,   0,\n",
       "          0,  63, 127, 242, 134,   0,  32,  53,  85, 227, 248, 255, 224,\n",
       "          0,   0],\n",
       "       [  0,   0,   0,   0,   0,   0,   0,   0,   0,   0,   0,   4,   0,\n",
       "         15, 223, 227, 227, 228, 223, 255, 255, 237, 238, 226, 246, 166,\n",
       "          0,   0],\n",
       "       [  0,   0,   0,   0,   0,   0,   0,   0,   0,   0,   0,   4,   0,\n",
       "          0, 208, 213, 214, 219, 213, 201, 195, 208, 228, 232, 248, 140,\n",
       "          0,   0],\n",
       "       [  0,   0,   0,   0,   0,   0,   0,   0,   0,   0,   0,   3,   0,\n",
       "          0, 230, 220, 217, 228, 213, 210, 210, 222, 233, 228, 249,  90,\n",
       "          0,   2],\n",
       "       [  0,   0,   0,   0,   0,   0,   0,   0,   0,   0,   0,   3,   0,\n",
       "          0, 218, 222, 214, 228, 211, 212, 214, 220, 236, 226, 252,  64,\n",
       "          0,   2],\n",
       "       [  0,   0,   0,   0,   0,   0,   0,   0,   0,   0,   0,   1,   0,\n",
       "         16, 255, 214, 221, 228, 208, 214, 219, 221, 232, 228, 253,  80,\n",
       "          0,   2],\n",
       "       [  0,   0,   0,   0,   0,   0,   0,   0,   0,   0,   0,   0,   0,\n",
       "        160, 226, 208, 219, 226, 207, 217, 221, 221, 231, 229, 247,  98,\n",
       "          0,   1],\n",
       "       [  0,   0,   0,   0,   0,   0,   1,   0,   0,   0,   6,   0,  34,\n",
       "        255, 210, 224, 221, 226, 213, 222, 220, 219, 238, 228, 247, 158,\n",
       "          0,   0],\n",
       "       [  0,   0,   0,   0,   0,   0,   0,   0,   0,   4,   0,   0, 226,\n",
       "        211, 207, 217, 221, 227, 211, 220, 220, 222, 239, 228, 236, 241,\n",
       "          0,   0],\n",
       "       [  0,   0,   0,   1,   3,   4,   5,   1,   0,   0,   0, 204, 231,\n",
       "        198, 211, 210, 222, 225, 215, 219, 218, 222, 229, 236, 227, 240,\n",
       "         67,   0],\n",
       "       [  0,   2,   5,   0,   0,   0,   0,   0,   0,  56, 210, 233, 195,\n",
       "        211, 214, 220, 218, 230, 227, 224, 222, 224, 220, 232, 230, 246,\n",
       "        193,   0],\n",
       "       [  0,   0,   0,   0,   0,   4,   5,  78, 179, 251, 221, 197, 212,\n",
       "        212, 216, 221, 225, 234, 231, 229, 226, 226, 230, 226, 228, 235,\n",
       "        252,   0],\n",
       "       [  0,   0, 116, 194, 236, 242, 253, 254, 214, 203, 201, 209, 212,\n",
       "        215, 222, 227, 230, 232, 232, 232, 231, 232, 233, 226, 227, 231,\n",
       "        255,   0],\n",
       "       [  0, 180, 225, 200, 203, 200, 203, 195, 199, 207, 213, 217, 217,\n",
       "        218, 225, 229, 231, 235, 238, 238, 241, 243, 243, 240, 240, 235,\n",
       "        255,   9],\n",
       "       [  0, 199, 220, 216, 216, 210, 210, 211, 209, 214, 215, 219, 221,\n",
       "        226, 237, 243, 241, 239, 232, 229, 221, 218, 214, 209, 208, 195,\n",
       "        241,  73],\n",
       "       [ 62, 203, 193, 209, 226, 231, 235, 240, 243, 239, 242, 241, 241,\n",
       "        243, 236, 219, 207, 193, 196, 196, 199, 197, 199, 199, 204, 196,\n",
       "        237,  79],\n",
       "       [107, 225, 205, 195, 186, 185, 193, 200, 207, 210, 214, 209, 198,\n",
       "        189, 180, 191, 213, 235, 238, 211, 203, 209, 203, 201, 202, 193,\n",
       "        235,  55],\n",
       "       [  0,  89, 193, 245, 255, 246, 230, 215, 206, 196, 195, 198, 206,\n",
       "        230, 245, 249, 217, 157,  92, 236, 215, 217, 221, 219, 219, 206,\n",
       "        255,  76],\n",
       "       [  0,   0,   0,   0,  58,  93, 144, 187, 205, 208, 214, 204, 194,\n",
       "        145,  80,  20,   0,   0,   0, 167, 197, 170, 183, 181, 179, 176,\n",
       "        187,  37],\n",
       "       [  0,   0,   0,   0,   0,   0,   0,   0,   0,   0,   0,   0,   0,\n",
       "          0,   0,   0,   0,   0,   0,   0,   0,   0,   0,   0,   0,   0,\n",
       "          0,   0],\n",
       "       [  0,   0,   0,   0,   0,   0,   0,   0,   0,   0,   0,   0,   0,\n",
       "          0,   0,   0,   0,   0,   0,   0,   0,   0,   0,   0,   0,   0,\n",
       "          0,   0],\n",
       "       [  0,   0,   0,   0,   0,   0,   0,   0,   0,   0,   0,   0,   0,\n",
       "          0,   0,   0,   0,   0,   0,   0,   0,   0,   0,   0,   0,   0,\n",
       "          0,   0],\n",
       "       [  0,   0,   0,   0,   0,   0,   0,   0,   0,   0,   0,   0,   0,\n",
       "          0,   0,   0,   0,   0,   0,   0,   0,   0,   0,   0,   0,   0,\n",
       "          0,   0]], dtype=uint8)"
      ]
     },
     "execution_count": 63,
     "metadata": {},
     "output_type": "execute_result"
    }
   ],
   "source": [
    "x_train[n]"
   ]
  },
  {
   "cell_type": "code",
   "execution_count": 64,
   "metadata": {},
   "outputs": [
    {
     "data": {
      "text/plain": [
       "9"
      ]
     },
     "execution_count": 64,
     "metadata": {},
     "output_type": "execute_result"
    }
   ],
   "source": [
    "y_train[n]"
   ]
  },
  {
   "cell_type": "code",
   "execution_count": 65,
   "metadata": {},
   "outputs": [
    {
     "data": {
      "text/plain": [
       "<matplotlib.image.AxesImage at 0x174ce6ec1d0>"
      ]
     },
     "execution_count": 65,
     "metadata": {},
     "output_type": "execute_result"
    },
    {
     "data": {
      "image/png": "[encoded data removed]",
      "text/plain": [
       "<Figure size 432x288 with 1 Axes>"
      ]
     },
     "metadata": {
      "needs_background": "light"
     },
     "output_type": "display_data"
    }
   ],
   "source": [
    "plt.imshow(x_train[n], cmap = 'Greys')"
   ]
  },
  {
   "cell_type": "markdown",
   "metadata": {},
   "source": [
    "# 3.資料整理"
   ]
  },
  {
   "cell_type": "code",
   "execution_count": 66,
   "metadata": {},
   "outputs": [],
   "source": [
    "x_train = x_train/255\n",
    "x_test = x_test/255"
   ]
  },
  {
   "cell_type": "code",
   "execution_count": 67,
   "metadata": {},
   "outputs": [
    {
     "data": {
      "text/plain": [
       "(60000, 28, 28)"
      ]
     },
     "execution_count": 67,
     "metadata": {},
     "output_type": "execute_result"
    }
   ],
   "source": [
    "x_train.shape"
   ]
  },
  {
   "cell_type": "code",
   "execution_count": 68,
   "metadata": {},
   "outputs": [],
   "source": [
    "x_train = x_train.reshape(60000, 784)\n",
    "x_test = x_test.reshape(10000, 784)"
   ]
  },
  {
   "cell_type": "markdown",
   "metadata": {},
   "source": [
    "### 將 y_train1, y_test1 存為 onehot (因為後面命名時會用到y_train, y_test)"
   ]
  },
  {
   "cell_type": "code",
   "execution_count": 84,
   "metadata": {},
   "outputs": [],
   "source": [
    "from tensorflow.keras.utils import to_categorical"
   ]
  },
  {
   "cell_type": "code",
   "execution_count": 85,
   "metadata": {},
   "outputs": [],
   "source": [
    "y_train1 = to_categorical(y_train, 10)\n",
    "y_test1 = to_categorical(y_test, 10)"
   ]
  },
  {
   "cell_type": "markdown",
   "metadata": {},
   "source": [
    "# 4.打造神經網路"
   ]
  },
  {
   "cell_type": "markdown",
   "metadata": {},
   "source": [
    "### 改變神經元數量"
   ]
  },
  {
   "cell_type": "code",
   "execution_count": 76,
   "metadata": {},
   "outputs": [],
   "source": [
    "from tensorflow.keras.models import Sequential\n",
    "from tensorflow.keras.layers import Dense\n",
    "from tensorflow.keras.optimizers import SGD"
   ]
  },
  {
   "cell_type": "code",
   "execution_count": 99,
   "metadata": {},
   "outputs": [],
   "source": [
    "model = Sequential()"
   ]
  },
  {
   "cell_type": "code",
   "execution_count": 100,
   "metadata": {},
   "outputs": [],
   "source": [
    "model.add(Dense(92, input_dim = 784, activation = 'relu'))"
   ]
  },
  {
   "cell_type": "code",
   "execution_count": 101,
   "metadata": {},
   "outputs": [],
   "source": [
    "model.add(Dense(92, activation = 'relu'))"
   ]
  },
  {
   "cell_type": "code",
   "execution_count": 102,
   "metadata": {},
   "outputs": [],
   "source": [
    "model.add(Dense(10, activation = 'softmax'))"
   ]
  },
  {
   "cell_type": "markdown",
   "metadata": {},
   "source": [
    "# 5.組裝神經網路"
   ]
  },
  {
   "cell_type": "markdown",
   "metadata": {},
   "source": [
    "### 改變lr"
   ]
  },
  {
   "cell_type": "code",
   "execution_count": 103,
   "metadata": {},
   "outputs": [],
   "source": [
    "model.compile(loss='mse', optimizer=SGD(lr=0.095),metrics=['accuracy'])"
   ]
  },
  {
   "cell_type": "code",
   "execution_count": 104,
   "metadata": {
    "scrolled": true
   },
   "outputs": [
    {
     "name": "stdout",
     "output_type": "stream",
     "text": [
      "Model: \"sequential_2\"\n",
      "_________________________________________________________________\n",
      "Layer (type)                 Output Shape              Param #   \n",
      "=================================================================\n",
      "dense_9 (Dense)              (None, 92)                72220     \n",
      "_________________________________________________________________\n",
      "dense_10 (Dense)             (None, 92)                8556      \n",
      "_________________________________________________________________\n",
      "dense_11 (Dense)             (None, 10)                930       \n",
      "=================================================================\n",
      "Total params: 81,706\n",
      "Trainable params: 81,706\n",
      "Non-trainable params: 0\n",
      "_________________________________________________________________\n"
     ]
    }
   ],
   "source": [
    "model.summary()"
   ]
  },
  {
   "cell_type": "markdown",
   "metadata": {},
   "source": [
    "# 6.訓練"
   ]
  },
  {
   "cell_type": "markdown",
   "metadata": {},
   "source": [
    "### 訓練多筆資料(重複訓練多筆資料後正確率才有90%)"
   ]
  },
  {
   "cell_type": "code",
   "execution_count": 109,
   "metadata": {},
   "outputs": [
    {
     "name": "stdout",
     "output_type": "stream",
     "text": [
      "Train on 60000 samples\n",
      "Epoch 1/45\n",
      "60000/60000 [==============================] - 2s 25us/sample - loss: 0.0154 - accuracy: 0.8985\n",
      "Epoch 2/45\n",
      "60000/60000 [==============================] - 1s 25us/sample - loss: 0.0153 - accuracy: 0.8985\n",
      "Epoch 3/45\n",
      "60000/60000 [==============================] - 1s 24us/sample - loss: 0.0153 - accuracy: 0.8993\n",
      "Epoch 4/45\n",
      "60000/60000 [==============================] - 1s 24us/sample - loss: 0.0152 - accuracy: 0.8998\n",
      "Epoch 5/45\n",
      "60000/60000 [==============================] - 1s 24us/sample - loss: 0.0152 - accuracy: 0.8996\n",
      "Epoch 6/45\n",
      "60000/60000 [==============================] - 1s 25us/sample - loss: 0.0151 - accuracy: 0.9007\n",
      "Epoch 7/45\n",
      "60000/60000 [==============================] - 1s 25us/sample - loss: 0.0151 - accuracy: 0.9000\n",
      "Epoch 8/45\n",
      "60000/60000 [==============================] - 1s 25us/sample - loss: 0.0151 - accuracy: 0.9009\n",
      "Epoch 9/45\n",
      "60000/60000 [==============================] - 2s 26us/sample - loss: 0.0150 - accuracy: 0.9011\n",
      "Epoch 10/45\n",
      "60000/60000 [==============================] - 2s 25us/sample - loss: 0.0150 - accuracy: 0.9016\n",
      "Epoch 11/45\n",
      "60000/60000 [==============================] - 2s 25us/sample - loss: 0.0149 - accuracy: 0.9026\n",
      "Epoch 12/45\n",
      "60000/60000 [==============================] - 2s 25us/sample - loss: 0.0149 - accuracy: 0.9017\n",
      "Epoch 13/45\n",
      "60000/60000 [==============================] - 1s 25us/sample - loss: 0.0148 - accuracy: 0.9033\n",
      "Epoch 14/45\n",
      "60000/60000 [==============================] - 2s 25us/sample - loss: 0.0148 - accuracy: 0.9040\n",
      "Epoch 15/45\n",
      "60000/60000 [==============================] - 2s 25us/sample - loss: 0.0147 - accuracy: 0.9044\n",
      "Epoch 16/45\n",
      "60000/60000 [==============================] - 2s 26us/sample - loss: 0.0147 - accuracy: 0.9035\n",
      "Epoch 17/45\n",
      "60000/60000 [==============================] - 2s 28us/sample - loss: 0.0147 - accuracy: 0.9039\n",
      "Epoch 18/45\n",
      "60000/60000 [==============================] - 2s 27us/sample - loss: 0.0146 - accuracy: 0.9049\n",
      "Epoch 19/45\n",
      "60000/60000 [==============================] - 2s 25us/sample - loss: 0.0146 - accuracy: 0.9050\n",
      "Epoch 20/45\n",
      "60000/60000 [==============================] - 2s 26us/sample - loss: 0.0145 - accuracy: 0.9050\n",
      "Epoch 21/45\n",
      "60000/60000 [==============================] - 2s 26us/sample - loss: 0.0145 - accuracy: 0.9055\n",
      "Epoch 22/45\n",
      "60000/60000 [==============================] - 2s 26us/sample - loss: 0.0144 - accuracy: 0.9057\n",
      "Epoch 23/45\n",
      "60000/60000 [==============================] - 2s 26us/sample - loss: 0.0144 - accuracy: 0.9061\n",
      "Epoch 24/45\n",
      "60000/60000 [==============================] - 2s 26us/sample - loss: 0.0144 - accuracy: 0.9053\n",
      "Epoch 25/45\n",
      "60000/60000 [==============================] - 2s 26us/sample - loss: 0.0143 - accuracy: 0.9071\n",
      "Epoch 26/45\n",
      "60000/60000 [==============================] - 2s 26us/sample - loss: 0.0143 - accuracy: 0.9072\n",
      "Epoch 27/45\n",
      "60000/60000 [==============================] - 2s 26us/sample - loss: 0.0142 - accuracy: 0.9074\n",
      "Epoch 28/45\n",
      "60000/60000 [==============================] - 2s 26us/sample - loss: 0.0142 - accuracy: 0.9067\n",
      "Epoch 29/45\n",
      "60000/60000 [==============================] - 2s 26us/sample - loss: 0.0141 - accuracy: 0.9081\n",
      "Epoch 30/45\n",
      "60000/60000 [==============================] - 2s 26us/sample - loss: 0.0141 - accuracy: 0.9088\n",
      "Epoch 31/45\n",
      "60000/60000 [==============================] - 2s 26us/sample - loss: 0.0141 - accuracy: 0.9089\n",
      "Epoch 32/45\n",
      "60000/60000 [==============================] - 2s 26us/sample - loss: 0.0140 - accuracy: 0.9100\n",
      "Epoch 33/45\n",
      "60000/60000 [==============================] - 2s 26us/sample - loss: 0.0139 - accuracy: 0.9101\n",
      "Epoch 34/45\n",
      "60000/60000 [==============================] - 2s 26us/sample - loss: 0.0139 - accuracy: 0.9100\n",
      "Epoch 35/45\n",
      "60000/60000 [==============================] - 2s 26us/sample - loss: 0.0139 - accuracy: 0.9103\n",
      "Epoch 36/45\n",
      "60000/60000 [==============================] - 2s 26us/sample - loss: 0.0138 - accuracy: 0.9109\n",
      "Epoch 37/45\n",
      "60000/60000 [==============================] - 2s 26us/sample - loss: 0.0138 - accuracy: 0.9100\n",
      "Epoch 38/45\n",
      "60000/60000 [==============================] - 2s 27us/sample - loss: 0.0138 - accuracy: 0.9106\n",
      "Epoch 39/45\n",
      "60000/60000 [==============================] - 2s 26us/sample - loss: 0.0137 - accuracy: 0.9117\n",
      "Epoch 40/45\n",
      "60000/60000 [==============================] - 2s 28us/sample - loss: 0.0138 - accuracy: 0.9112\n",
      "Epoch 41/45\n",
      "60000/60000 [==============================] - 2s 25us/sample - loss: 0.0137 - accuracy: 0.9118\n",
      "Epoch 42/45\n",
      "60000/60000 [==============================] - 2s 25us/sample - loss: 0.0137 - accuracy: 0.9124\n",
      "Epoch 43/45\n",
      "60000/60000 [==============================] - 2s 26us/sample - loss: 0.0136 - accuracy: 0.9120\n",
      "Epoch 44/45\n",
      "60000/60000 [==============================] - 2s 26us/sample - loss: 0.0136 - accuracy: 0.9121\n",
      "Epoch 45/45\n",
      "60000/60000 [==============================] - 2s 26us/sample - loss: 0.0135 - accuracy: 0.9137\n"
     ]
    },
    {
     "data": {
      "text/plain": [
       "<tensorflow.python.keras.callbacks.History at 0x174ca112cf8>"
      ]
     },
     "execution_count": 109,
     "metadata": {},
     "output_type": "execute_result"
    }
   ],
   "source": [
    "model.fit(x_train, y_train1, batch_size = 100, epochs=45)"
   ]
  },
  {
   "cell_type": "markdown",
   "metadata": {},
   "source": [
    "# 7.訓練成果"
   ]
  },
  {
   "cell_type": "code",
   "execution_count": 110,
   "metadata": {},
   "outputs": [],
   "source": [
    "result = model.predict_classes(x_test)"
   ]
  },
  {
   "cell_type": "code",
   "execution_count": 111,
   "metadata": {},
   "outputs": [],
   "source": [
    "class_names = ['T-shirt/top', 'Trouser', 'Pullover', 'Dress', 'Coat',\n",
    "               'Sandal', 'Shirt', 'Sneaker', 'Bag', 'Ankle boot']"
   ]
  },
  {
   "cell_type": "markdown",
   "metadata": {},
   "source": [
    "### 測試"
   ]
  },
  {
   "cell_type": "code",
   "execution_count": 123,
   "metadata": {
    "scrolled": true
   },
   "outputs": [
    {
     "name": "stdout",
     "output_type": "stream",
     "text": [
      "這是 Shirt\n"
     ]
    },
    {
     "data": {
      "text/plain": [
       "<matplotlib.image.AxesImage at 0x174afd229e8>"
      ]
     },
     "execution_count": 123,
     "metadata": {},
     "output_type": "execute_result"
    },
    {
     "data": {
      "image/png": "[encoded data removed]",
      "text/plain": [
       "<Figure size 432x288 with 1 Axes>"
      ]
     },
     "metadata": {
      "needs_background": "light"
     },
     "output_type": "display_data"
    }
   ],
   "source": [
    "n = 3456\n",
    "print('這是', class_names[y_train[n]])\n",
    "plt.imshow(x_train[n].reshape(28,28), cmap='Greys')"
   ]
  },
  {
   "cell_type": "code",
   "execution_count": 124,
   "metadata": {},
   "outputs": [
    {
     "data": {
      "image/png": "[encoded data removed]",
      "text/plain": [
       "<Figure size 432x288 with 5 Axes>"
      ]
     },
     "metadata": {},
     "output_type": "display_data"
    }
   ],
   "source": [
    "pick = np.random.choice(60000, 5, replace=False)\n",
    "\n",
    "for i in range(5):\n",
    "    n = pick[i]\n",
    "    ax = plt.subplot(151+i)\n",
    "    ax.set_xticks([])\n",
    "    ax.set_yticks([])\n",
    "    ax.set_title(class_names[y_train[n]], fontsize=10)\n",
    "    plt.imshow(x_train[n].reshape(28,28), cmap='Greys')  "
   ]
  },
  {
   "cell_type": "code",
   "execution_count": null,
   "metadata": {},
   "outputs": [],
   "source": []
  }
 ],
 "metadata": {
  "kernelspec": {
   "display_name": "Python 3",
   "language": "python",
   "name": "python3"
  },
  "language_info": {
   "codemirror_mode": {
    "name": "ipython",
    "version": 3
   },
   "file_extension": ".py",
   "mimetype": "text/x-python",
   "name": "python",
   "nbconvert_exporter": "python",
   "pygments_lexer": "ipython3",
   "version": "3.7.3"
  }
 },
 "nbformat": 4,
 "nbformat_minor": 2
}
