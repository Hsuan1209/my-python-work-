{
 "cells": [
  {
   "cell_type": "markdown",
   "metadata": {},
   "source": [
    "# List 的小功能"
   ]
  },
  {
   "cell_type": "code",
   "execution_count": 1,
   "metadata": {},
   "outputs": [],
   "source": [
    "%matplotlib inline\n",
    "\n",
    "import numpy as np\n",
    "import matplotlib.pyplot as plt\n",
    "import pandas as pd"
   ]
  },
  {
   "cell_type": "code",
   "execution_count": 9,
   "metadata": {},
   "outputs": [
    {
     "name": "stdout",
     "output_type": "stream",
     "text": [
      "請輸入匯率(原幣值/台幣):59\n",
      "請輸入件數:3\n",
      "請依次輸入的價格:150\n",
      "請依次輸入的價格:124\n",
      "請依次輸入的價格:133\n",
      "原始總價格: [150, 124, 133]\n",
      "換算後價格: [8850, 7316, 7847]\n"
     ]
    }
   ],
   "source": [
    "L = []\n",
    "l = []\n",
    "c = int(input(\"請輸入匯率(原幣值/台幣):\"))\n",
    "k = int(input(\"請輸入件數:\"))\n",
    "for i in range(k):\n",
    "    a = int(input(\"請依次輸入的價格:\"))\n",
    "    L.append(a)\n",
    "    l.append(a*c)\n",
    "print(\"原始總價格:\",L)\n",
    "print(\"換算後價格:\",l)    "
   ]
  },
  {
   "cell_type": "code",
   "execution_count": null,
   "metadata": {},
   "outputs": [],
   "source": []
  }
 ],
 "metadata": {
  "kernelspec": {
   "display_name": "Python 3",
   "language": "python",
   "name": "python3"
  },
  "language_info": {
   "codemirror_mode": {
    "name": "ipython",
    "version": 3
   },
   "file_extension": ".py",
   "mimetype": "text/x-python",
   "name": "python",
   "nbconvert_exporter": "python",
   "pygments_lexer": "ipython3",
   "version": "3.7.3"
  }
 },
 "nbformat": 4,
 "nbformat_minor": 2
}
