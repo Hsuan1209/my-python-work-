{
 "cells": [
  {
   "cell_type": "markdown",
   "metadata": {},
   "source": [
    "# 寫檔案(簡易收據)"
   ]
  },
  {
   "cell_type": "code",
   "execution_count": 1,
   "metadata": {},
   "outputs": [],
   "source": [
    "%matplotlib inline\n",
    "import numpy as np\n",
    "import matplotlib.pyplot as plt\n",
    "import pandas as pd"
   ]
  },
  {
   "cell_type": "code",
   "execution_count": 7,
   "metadata": {},
   "outputs": [
    {
     "name": "stdout",
     "output_type": "stream",
     "text": [
      "請輸入今天日期(eg:20200520):20200531\n",
      "若無商品請輸入0\n",
      "\n",
      "請輸入物品名稱:泡芙\n",
      "請輸入價格:to\n",
      "輸入錯誤\n",
      "請輸入價格:50\n",
      "\n",
      "請輸入物品名稱:泡麵\n",
      "請輸入價格:30\n",
      "\n",
      "請輸入物品名稱:0\n",
      "\n",
      "本收據開自: 2020年05月31日\n",
      "泡芙:50元\n",
      "泡麵:30元\n",
      "總和:80元\n"
     ]
    }
   ],
   "source": [
    "receipt = open(\"receipt.txt\",'w+',encoding='utf-8')\n",
    "date = input(\"請輸入今天日期(eg:20200520):\")\n",
    "yy = date[:4]\n",
    "mm = date[4:6]\n",
    "dd = date[6:]\n",
    "day = \"本收據開自: \"+yy+\"年\"+mm+\"月\"+dd+\"日\\n\"\n",
    "receipt.write(day)\n",
    "commodity = 0\n",
    "total = 0\n",
    "print(\"若無商品請輸入0\")\n",
    "while commodity != '0':\n",
    "    print()\n",
    "    commodity = input('請輸入物品名稱:')\n",
    "    while commodity != '0':\n",
    "        while True:\n",
    "            price = input('請輸入價格:')\n",
    "            if price.isdecimal():\n",
    "                total +=int(price)\n",
    "                break\n",
    "            else:\n",
    "                print(\"輸入錯誤\")\n",
    "        receipt.write(f'{commodity:2s}'':'f'{price}''元\\n')\n",
    "        break\n",
    "receipt.write('總和:'f'{total:d}''元\\n')\n",
    "receipt.close()\n",
    "\n",
    "\n",
    "print()\n",
    "receipt = open(\"receipt.txt\",'r',encoding=\"utf-8\")\n",
    "l = receipt.readlines()  \n",
    "receipt.close()\n",
    "for i in  l:\n",
    "    print(i,end=\"\")"
   ]
  },
  {
   "cell_type": "code",
   "execution_count": null,
   "metadata": {},
   "outputs": [],
   "source": []
  }
 ],
 "metadata": {
  "kernelspec": {
   "display_name": "Python 3",
   "language": "python",
   "name": "python3"
  },
  "language_info": {
   "codemirror_mode": {
    "name": "ipython",
    "version": 3
   },
   "file_extension": ".py",
   "mimetype": "text/x-python",
   "name": "python",
   "nbconvert_exporter": "python",
   "pygments_lexer": "ipython3",
   "version": "3.7.3"
  }
 },
 "nbformat": 4,
 "nbformat_minor": 2
}
