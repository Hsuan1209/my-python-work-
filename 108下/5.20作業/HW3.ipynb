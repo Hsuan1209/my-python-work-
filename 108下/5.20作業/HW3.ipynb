{
 "cells": [
  {
   "cell_type": "markdown",
   "metadata": {},
   "source": [
    "# 算出中位數,眾數,全距"
   ]
  },
  {
   "cell_type": "code",
   "execution_count": 42,
   "metadata": {},
   "outputs": [],
   "source": [
    "%matplotlib inline\n",
    "import numpy as np\n",
    "import matplotlib.pyplot as plt\n",
    "import pandas as pd"
   ]
  },
  {
   "cell_type": "code",
   "execution_count": 43,
   "metadata": {},
   "outputs": [
    {
     "name": "stdout",
     "output_type": "stream",
     "text": [
      "請輸入要輸入幾個分數：5\n",
      "請依序輸入 5 個分數，每輸入完一個分數後請按Enter，再接著輸入下一個:\n",
      "\n",
      "輸入第1個分數:60\n",
      "輸入第2個分數:30\n",
      "輸入第3個分數:80\n",
      "輸入第4個分數:80\n",
      "輸入第5個分數:60\n",
      "[30, 60, 60, 80, 80]\n"
     ]
    }
   ],
   "source": [
    "count=int(input(\"請輸入要輸入幾個分數：\"))\n",
    "grade=[]   \n",
    "i = 0\n",
    "print('請依序輸入',count,'個分數，每輸入完一個分數後請按Enter，再接著輸入下一個:')\n",
    "\n",
    "print()  \n",
    "while i<count:\n",
    "    line = input('輸入第'+str(i+1)+'個分數:')  #使用者輸入\n",
    "    if line.isdecimal() and int(line)<=100:\n",
    "        data=int(line)  #資料型態轉換\n",
    "        grade.append(data)\n",
    "        i+=1\n",
    "    else:\n",
    "        print(f\"剛剛輸入的第{i+1:d}個值並非合理分數，請再輸入一次\")\n",
    "\n",
    "grade1=sorted(grade,reverse=False)\n",
    "print(grade1)"
   ]
  },
  {
   "cell_type": "code",
   "execution_count": 44,
   "metadata": {},
   "outputs": [
    {
     "name": "stdout",
     "output_type": "stream",
     "text": [
      "中位數為： 60\n"
     ]
    }
   ],
   "source": [
    "if (count%2) == 0:\n",
    "    print(\"中位數為：\",(grade1[int(count/2)]+grade1[int(count/2-1)]/2))\n",
    "else:\n",
    "    print(\"中位數為：\",(grade1[int((count-1)/2)]))"
   ]
  },
  {
   "cell_type": "code",
   "execution_count": 45,
   "metadata": {},
   "outputs": [
    {
     "name": "stdout",
     "output_type": "stream",
     "text": [
      "眾數為： [60, 80]\n",
      "全距為： 50\n"
     ]
    }
   ],
   "source": [
    "m=0\n",
    "n=[]\n",
    "o=0\n",
    "while o<count:\n",
    "    k = grade1.count(grade1[o])\n",
    "    \n",
    "    if k>m:\n",
    "        n.clear()\n",
    "        n.append(grade1[o])\n",
    "        m=k\n",
    "    elif k<m:\n",
    "        a=0\n",
    "    else:\n",
    "        n.append(grade1[o])\n",
    "    o += k\n",
    "print(\"眾數為：\",n) \n",
    "\n",
    "print(\"全距為：\",max(grade)-min(grade))\n",
    "\n"
   ]
  },
  {
   "cell_type": "code",
   "execution_count": null,
   "metadata": {},
   "outputs": [],
   "source": []
  }
 ],
 "metadata": {
  "kernelspec": {
   "display_name": "Python 3",
   "language": "python",
   "name": "python3"
  },
  "language_info": {
   "codemirror_mode": {
    "name": "ipython",
    "version": 3
   },
   "file_extension": ".py",
   "mimetype": "text/x-python",
   "name": "python",
   "nbconvert_exporter": "python",
   "pygments_lexer": "ipython3",
   "version": "3.7.3"
  }
 },
 "nbformat": 4,
 "nbformat_minor": 2
}
