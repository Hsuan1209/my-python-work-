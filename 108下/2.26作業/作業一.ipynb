{
 "cells": [
  {
   "cell_type": "markdown",
   "metadata": {},
   "source": [
    "# 今天玩什麼之幫我選擇"
   ]
  },
  {
   "cell_type": "code",
   "execution_count": 1,
   "metadata": {},
   "outputs": [],
   "source": [
    "%matplotlib inline\n",
    "\n",
    "import numpy as np\n",
    "import matplotlib.pyplot as plt\n",
    "import pandas as pd"
   ]
  },
  {
   "cell_type": "code",
   "execution_count": 5,
   "metadata": {},
   "outputs": [
    {
     "name": "stdout",
     "output_type": "stream",
     "text": [
      "今天要玩什麼遊戲呢?\n",
      "99\n"
     ]
    }
   ],
   "source": [
    "print(\"今天要玩什麼遊戲呢?\")\n",
    "\n",
    "x= np.random.randint(1,1000)\n",
    "\n",
    "if x<100:\n",
    "    print(\"99\")\n",
    "elif 100<x<200:\n",
    "    print(\"21點\")\n",
    "elif 200<x<300:\n",
    "    print(\"心臟病\")\n",
    "elif 300<x<400:\n",
    "    print(\"大老二\")\n",
    "elif 400<x<500:\n",
    "    print(\"射龍門\")\n",
    "elif 500<x<600:\n",
    "    print(\"妞妞\")\n",
    "elif 600<x<700:\n",
    "    print(\"撿紅點\")\n",
    "elif 700<x<800:\n",
    "    print(\"吹牛\")\n",
    "elif 800<x<900:\n",
    "    print(\"抽鬼牌\")\n",
    "elif 900<x<1000:\n",
    "    print(\"德州撲克\")\n",
    "else:\n",
    "    print(\"今天別玩撲克牌\")"
   ]
  },
  {
   "cell_type": "code",
   "execution_count": null,
   "metadata": {},
   "outputs": [],
   "source": []
  }
 ],
 "metadata": {
  "kernelspec": {
   "display_name": "Python 3",
   "language": "python",
   "name": "python3"
  },
  "language_info": {
   "codemirror_mode": {
    "name": "ipython",
    "version": 3
   },
   "file_extension": ".py",
   "mimetype": "text/x-python",
   "name": "python",
   "nbconvert_exporter": "python",
   "pygments_lexer": "ipython3",
   "version": "3.7.3"
  }
 },
 "nbformat": 4,
 "nbformat_minor": 2
}
