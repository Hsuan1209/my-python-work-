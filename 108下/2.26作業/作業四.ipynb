{
 "cells": [
  {
   "cell_type": "markdown",
   "metadata": {},
   "source": [
    "# 拍拍機器人"
   ]
  },
  {
   "cell_type": "code",
   "execution_count": 1,
   "metadata": {},
   "outputs": [],
   "source": [
    "%matplotlib inline\n",
    "\n",
    "import numpy as np \n",
    "import matplotlib.pyplot as plt \n",
    "import pandas as pd"
   ]
  },
  {
   "cell_type": "code",
   "execution_count": 3,
   "metadata": {},
   "outputs": [
    {
     "name": "stdout",
     "output_type": "stream",
     "text": [
      "我:又是一個新學期\n",
      "pipi:對啊!很快又要結束了\n",
      "我:哈哈哈,那就可以放暑假了\n",
      "pipi:然後又要開始耍廢囉!\n",
      "我:看破不說破\n",
      "pipi:糟糕的人\n",
      "我:好啦!下次聊,掰掰\n",
      "pipi:掰掰\n"
     ]
    }
   ],
   "source": [
    "msg = \"新學期開始了\"\n",
    "while (msg != \"好啦!下次聊,掰掰\"):\n",
    "    msg = input(\"我:\")\n",
    "    if \"又是\" in msg:\n",
    "        print(\"pipi:對啊!很快又要結束了\")\n",
    "    elif \"哈哈哈\" in msg:\n",
    "        print(\"pipi:然後又要開始耍廢囉!\")\n",
    "    elif \"看破\" in msg:\n",
    "        print(\"pipi:糟糕的人\")\n",
    "    else :\n",
    "        print(\"pipi:掰掰\")"
   ]
  },
  {
   "cell_type": "code",
   "execution_count": null,
   "metadata": {},
   "outputs": [],
   "source": []
  }
 ],
 "metadata": {
  "kernelspec": {
   "display_name": "Python 3",
   "language": "python",
   "name": "python3"
  },
  "language_info": {
   "codemirror_mode": {
    "name": "ipython",
    "version": 3
   },
   "file_extension": ".py",
   "mimetype": "text/x-python",
   "name": "python",
   "nbconvert_exporter": "python",
   "pygments_lexer": "ipython3",
   "version": "3.7.3"
  }
 },
 "nbformat": 4,
 "nbformat_minor": 2
}
