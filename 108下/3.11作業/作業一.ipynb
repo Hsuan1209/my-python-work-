{
 "cells": [
  {
   "cell_type": "markdown",
   "metadata": {},
   "source": [
    "# 算閏年"
   ]
  },
  {
   "cell_type": "code",
   "execution_count": 1,
   "metadata": {},
   "outputs": [],
   "source": [
    "%matplotlib inline\n",
    "\n",
    "import numpy as np\n",
    "import matplotlib.pyplot as plt\n",
    "import pandas as pd"
   ]
  },
  {
   "cell_type": "code",
   "execution_count": 15,
   "metadata": {},
   "outputs": [
    {
     "name": "stdout",
     "output_type": "stream",
     "text": [
      "請輸入想查詢的年份:1456\n",
      "是閏年\n",
      "請輸入想查詢的年份:2020\n",
      "是閏年\n",
      "請輸入想查詢的年份:2015\n",
      "是平年\n",
      "請輸入想查詢的年份:1600\n",
      "是閏年\n",
      "請輸入想查詢的年份:1900\n",
      "是平年\n",
      "請輸入想查詢的年份:0\n",
      "謝謝使用\n"
     ]
    }
   ],
   "source": [
    "while True:\n",
    "    a = int(input(\"請輸入想查詢的年份:\"))\n",
    "    if a == 0:\n",
    "        print(\"謝謝使用\")\n",
    "        break\n",
    "    elif a % 400 == 0:\n",
    "        print(\"是閏年\")\n",
    "    elif ((a % 4 == 0) and (a % 100 != 0)):\n",
    "        print(\"是閏年\")    \n",
    "    elif ((a % 100 == 0) and (a % 400 != 0)):\n",
    "        print(\"是平年\")\n",
    "    else:\n",
    "        print(\"是平年\")"
   ]
  },
  {
   "cell_type": "code",
   "execution_count": null,
   "metadata": {},
   "outputs": [],
   "source": []
  }
 ],
 "metadata": {
  "kernelspec": {
   "display_name": "Python 3",
   "language": "python",
   "name": "python3"
  },
  "language_info": {
   "codemirror_mode": {
    "name": "ipython",
    "version": 3
   },
   "file_extension": ".py",
   "mimetype": "text/x-python",
   "name": "python",
   "nbconvert_exporter": "python",
   "pygments_lexer": "ipython3",
   "version": "3.7.3"
  }
 },
 "nbformat": 4,
 "nbformat_minor": 2
}
