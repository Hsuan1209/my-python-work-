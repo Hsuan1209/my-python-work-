{
 "cells": [
  {
   "cell_type": "markdown",
   "metadata": {},
   "source": [
    "# 計算BMI"
   ]
  },
  {
   "cell_type": "code",
   "execution_count": 1,
   "metadata": {},
   "outputs": [],
   "source": [
    "%matplotlib inline\n",
    "\n",
    "import numpy as np\n",
    "import matplotlib.pyplot as plt\n",
    "import pandas as pd"
   ]
  },
  {
   "cell_type": "code",
   "execution_count": 6,
   "metadata": {},
   "outputs": [
    {
     "name": "stdout",
     "output_type": "stream",
     "text": [
      "請輸入你的體重(kg):72\n",
      "請輸入你的身高(cm):181\n",
      "你的BMI為: 21.97735111870822\n",
      "恭喜，你的體重在理想範圍內!\n"
     ]
    }
   ],
   "source": [
    "a = float(input(\"請輸入你的體重(kg):\"))\n",
    "b = float(input(\"請輸入你的身高(cm):\"))\n",
    "b = b/100\n",
    "c = a/b**2\n",
    "print(\"你的BMI為:\",c)\n",
    "if c < 18.5:\n",
    "    print(\"你的體重過輕囉!\")\n",
    "if 18.5 <= c< 24:\n",
    "    print(\"恭喜，你的體重在理想範圍內!\")\n",
    "if 24 <= c < 27:\n",
    "    print(\"你的體重過重囉!\")\n",
    "if c >= 27:\n",
    "    print(\"哎呀!你真的需要減重了!\")"
   ]
  },
  {
   "cell_type": "code",
   "execution_count": null,
   "metadata": {},
   "outputs": [],
   "source": []
  }
 ],
 "metadata": {
  "kernelspec": {
   "display_name": "Python 3",
   "language": "python",
   "name": "python3"
  },
  "language_info": {
   "codemirror_mode": {
    "name": "ipython",
    "version": 3
   },
   "file_extension": ".py",
   "mimetype": "text/x-python",
   "name": "python",
   "nbconvert_exporter": "python",
   "pygments_lexer": "ipython3",
   "version": "3.7.3"
  }
 },
 "nbformat": 4,
 "nbformat_minor": 2
}
