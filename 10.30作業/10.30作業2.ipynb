{
 "cells": [
  {
   "cell_type": "markdown",
   "metadata": {},
   "source": [
    "# 11/7 台灣食品股票"
   ]
  },
  {
   "cell_type": "code",
   "execution_count": 38,
   "metadata": {},
   "outputs": [],
   "source": [
    "%matplotlib inline\n",
    "\n",
    "import numpy as np\n",
    "import matplotlib.pyplot as plt\n",
    "import pandas as pd"
   ]
  },
  {
   "cell_type": "code",
   "execution_count": 39,
   "metadata": {},
   "outputs": [],
   "source": [
    "df = pd.read_html('https://tw.stock.yahoo.com/s/list.php?c=%AD%B9%AB%7E&rr=0.61382800%201572407080',encoding='big5')"
   ]
  },
  {
   "cell_type": "code",
   "execution_count": 40,
   "metadata": {},
   "outputs": [],
   "source": [
    "df = df[2]"
   ]
  },
  {
   "cell_type": "code",
   "execution_count": 41,
   "metadata": {},
   "outputs": [],
   "source": [
    "df.drop(\"選擇\",axis=1,inplace=True)"
   ]
  },
  {
   "cell_type": "code",
   "execution_count": 42,
   "metadata": {},
   "outputs": [
    {
     "data": {
      "text/html": [
       "<div>\n",
       "<style scoped>\n",
       "    .dataframe tbody tr th:only-of-type {\n",
       "        vertical-align: middle;\n",
       "    }\n",
       "\n",
       "    .dataframe tbody tr th {\n",
       "        vertical-align: top;\n",
       "    }\n",
       "\n",
       "    .dataframe thead th {\n",
       "        text-align: right;\n",
       "    }\n",
       "</style>\n",
       "<table border=\"1\" class=\"dataframe\">\n",
       "  <thead>\n",
       "    <tr style=\"text-align: right;\">\n",
       "      <th></th>\n",
       "      <th>股票代號</th>\n",
       "      <th>時間</th>\n",
       "      <th>成交</th>\n",
       "      <th>買進</th>\n",
       "      <th>賣出</th>\n",
       "      <th>漲跌</th>\n",
       "      <th>張數</th>\n",
       "      <th>昨收</th>\n",
       "      <th>開盤</th>\n",
       "      <th>最高</th>\n",
       "      <th>最低</th>\n",
       "    </tr>\n",
       "  </thead>\n",
       "  <tbody>\n",
       "    <tr>\n",
       "      <th>0</th>\n",
       "      <td>1201 味全</td>\n",
       "      <td>14:30</td>\n",
       "      <td>25.60</td>\n",
       "      <td>25.60</td>\n",
       "      <td>25.65</td>\n",
       "      <td>▽0.50</td>\n",
       "      <td>2178</td>\n",
       "      <td>26.10</td>\n",
       "      <td>26.00</td>\n",
       "      <td>26.00</td>\n",
       "      <td>25.35</td>\n",
       "    </tr>\n",
       "    <tr>\n",
       "      <th>1</th>\n",
       "      <td>1203 味王</td>\n",
       "      <td>13:30</td>\n",
       "      <td>27.60</td>\n",
       "      <td>27.60</td>\n",
       "      <td>27.65</td>\n",
       "      <td>△0.20</td>\n",
       "      <td>233</td>\n",
       "      <td>27.40</td>\n",
       "      <td>27.40</td>\n",
       "      <td>27.70</td>\n",
       "      <td>27.40</td>\n",
       "    </tr>\n",
       "    <tr>\n",
       "      <th>2</th>\n",
       "      <td>1210 大成</td>\n",
       "      <td>14:30</td>\n",
       "      <td>38.20</td>\n",
       "      <td>38.20</td>\n",
       "      <td>38.25</td>\n",
       "      <td>△0.60</td>\n",
       "      <td>3421</td>\n",
       "      <td>37.60</td>\n",
       "      <td>37.70</td>\n",
       "      <td>38.55</td>\n",
       "      <td>37.65</td>\n",
       "    </tr>\n",
       "    <tr>\n",
       "      <th>3</th>\n",
       "      <td>1213 大飲</td>\n",
       "      <td>10:41</td>\n",
       "      <td>6.41</td>\n",
       "      <td>5.92</td>\n",
       "      <td>6.32</td>\n",
       "      <td>△0.32</td>\n",
       "      <td>6</td>\n",
       "      <td>6.09</td>\n",
       "      <td>5.74</td>\n",
       "      <td>6.41</td>\n",
       "      <td>5.74</td>\n",
       "    </tr>\n",
       "    <tr>\n",
       "      <th>4</th>\n",
       "      <td>1215 卜蜂</td>\n",
       "      <td>13:30</td>\n",
       "      <td>65.00</td>\n",
       "      <td>65.00</td>\n",
       "      <td>65.30</td>\n",
       "      <td>0.00</td>\n",
       "      <td>1916</td>\n",
       "      <td>65.00</td>\n",
       "      <td>65.10</td>\n",
       "      <td>66.10</td>\n",
       "      <td>64.90</td>\n",
       "    </tr>\n",
       "  </tbody>\n",
       "</table>\n",
       "</div>"
      ],
      "text/plain": [
       "      股票代號     時間     成交     買進     賣出     漲跌    張數     昨收     開盤     最高  \\\n",
       "0  1201 味全  14:30  25.60  25.60  25.65  ▽0.50  2178  26.10  26.00  26.00   \n",
       "1  1203 味王  13:30  27.60  27.60  27.65  △0.20   233  27.40  27.40  27.70   \n",
       "2  1210 大成  14:30  38.20  38.20  38.25  △0.60  3421  37.60  37.70  38.55   \n",
       "3  1213 大飲  10:41   6.41   5.92   6.32  △0.32     6   6.09   5.74   6.41   \n",
       "4  1215 卜蜂  13:30  65.00  65.00  65.30   0.00  1916  65.00  65.10  66.10   \n",
       "\n",
       "      最低  \n",
       "0  25.35  \n",
       "1  27.40  \n",
       "2  37.65  \n",
       "3   5.74  \n",
       "4  64.90  "
      ]
     },
     "execution_count": 42,
     "metadata": {},
     "output_type": "execute_result"
    }
   ],
   "source": [
    "df.head()"
   ]
  },
  {
   "cell_type": "markdown",
   "metadata": {},
   "source": [
    "## 分析股票的高點"
   ]
  },
  {
   "cell_type": "code",
   "execution_count": 51,
   "metadata": {},
   "outputs": [],
   "source": [
    "df_high = df[[\"股票代號\",\"最高\"]]"
   ]
  },
  {
   "cell_type": "code",
   "execution_count": 58,
   "metadata": {},
   "outputs": [],
   "source": [
    "df_high = df_high.sort_values(\"最高\",ascending=False)"
   ]
  },
  {
   "cell_type": "code",
   "execution_count": 59,
   "metadata": {},
   "outputs": [
    {
     "data": {
      "text/html": [
       "<div>\n",
       "<style scoped>\n",
       "    .dataframe tbody tr th:only-of-type {\n",
       "        vertical-align: middle;\n",
       "    }\n",
       "\n",
       "    .dataframe tbody tr th {\n",
       "        vertical-align: top;\n",
       "    }\n",
       "\n",
       "    .dataframe thead th {\n",
       "        text-align: right;\n",
       "    }\n",
       "</style>\n",
       "<table border=\"1\" class=\"dataframe\">\n",
       "  <thead>\n",
       "    <tr style=\"text-align: right;\">\n",
       "      <th></th>\n",
       "      <th>股票代號</th>\n",
       "      <th>最高</th>\n",
       "    </tr>\n",
       "  </thead>\n",
       "  <tbody>\n",
       "    <tr>\n",
       "      <th>19</th>\n",
       "      <td>1256 鮮活果汁-KY</td>\n",
       "      <td>218.0</td>\n",
       "    </tr>\n",
       "    <tr>\n",
       "      <th>14</th>\n",
       "      <td>1232 大統益</td>\n",
       "      <td>125.5</td>\n",
       "    </tr>\n",
       "    <tr>\n",
       "      <th>5</th>\n",
       "      <td>1216 統一</td>\n",
       "      <td>75.1</td>\n",
       "    </tr>\n",
       "    <tr>\n",
       "      <th>4</th>\n",
       "      <td>1215 卜蜂</td>\n",
       "      <td>66.1</td>\n",
       "    </tr>\n",
       "    <tr>\n",
       "      <th>11</th>\n",
       "      <td>1227 佳格</td>\n",
       "      <td>62.3</td>\n",
       "    </tr>\n",
       "  </tbody>\n",
       "</table>\n",
       "</div>"
      ],
      "text/plain": [
       "            股票代號     最高\n",
       "19  1256 鮮活果汁-KY  218.0\n",
       "14      1232 大統益  125.5\n",
       "5        1216 統一   75.1\n",
       "4        1215 卜蜂   66.1\n",
       "11       1227 佳格   62.3"
      ]
     },
     "execution_count": 59,
     "metadata": {},
     "output_type": "execute_result"
    }
   ],
   "source": [
    "df_high.head()"
   ]
  },
  {
   "cell_type": "markdown",
   "metadata": {},
   "source": [
    "## 增加欄位,分析高低點"
   ]
  },
  {
   "cell_type": "code",
   "execution_count": 65,
   "metadata": {},
   "outputs": [],
   "source": [
    "df[\"相差\"] = df.最高 - df.最低"
   ]
  },
  {
   "cell_type": "code",
   "execution_count": 67,
   "metadata": {},
   "outputs": [],
   "source": [
    "df_Sub = df[[\"股票代號\",\"最高\",\"最低\",\"相差\"]]"
   ]
  },
  {
   "cell_type": "code",
   "execution_count": 68,
   "metadata": {},
   "outputs": [
    {
     "data": {
      "text/html": [
       "<div>\n",
       "<style scoped>\n",
       "    .dataframe tbody tr th:only-of-type {\n",
       "        vertical-align: middle;\n",
       "    }\n",
       "\n",
       "    .dataframe tbody tr th {\n",
       "        vertical-align: top;\n",
       "    }\n",
       "\n",
       "    .dataframe thead th {\n",
       "        text-align: right;\n",
       "    }\n",
       "</style>\n",
       "<table border=\"1\" class=\"dataframe\">\n",
       "  <thead>\n",
       "    <tr style=\"text-align: right;\">\n",
       "      <th></th>\n",
       "      <th>股票代號</th>\n",
       "      <th>最高</th>\n",
       "      <th>最低</th>\n",
       "      <th>相差</th>\n",
       "    </tr>\n",
       "  </thead>\n",
       "  <tbody>\n",
       "    <tr>\n",
       "      <th>19</th>\n",
       "      <td>1256 鮮活果汁-KY</td>\n",
       "      <td>218.00</td>\n",
       "      <td>214.0</td>\n",
       "      <td>4.00</td>\n",
       "    </tr>\n",
       "    <tr>\n",
       "      <th>17</th>\n",
       "      <td>1235 興泰</td>\n",
       "      <td>30.75</td>\n",
       "      <td>29.2</td>\n",
       "      <td>1.55</td>\n",
       "    </tr>\n",
       "    <tr>\n",
       "      <th>14</th>\n",
       "      <td>1232 大統益</td>\n",
       "      <td>125.50</td>\n",
       "      <td>124.0</td>\n",
       "      <td>1.50</td>\n",
       "    </tr>\n",
       "    <tr>\n",
       "      <th>4</th>\n",
       "      <td>1215 卜蜂</td>\n",
       "      <td>66.10</td>\n",
       "      <td>64.9</td>\n",
       "      <td>1.20</td>\n",
       "    </tr>\n",
       "    <tr>\n",
       "      <th>5</th>\n",
       "      <td>1216 統一</td>\n",
       "      <td>75.10</td>\n",
       "      <td>74.0</td>\n",
       "      <td>1.10</td>\n",
       "    </tr>\n",
       "  </tbody>\n",
       "</table>\n",
       "</div>"
      ],
      "text/plain": [
       "            股票代號      最高     最低    相差\n",
       "19  1256 鮮活果汁-KY  218.00  214.0  4.00\n",
       "17       1235 興泰   30.75   29.2  1.55\n",
       "14      1232 大統益  125.50  124.0  1.50\n",
       "4        1215 卜蜂   66.10   64.9  1.20\n",
       "5        1216 統一   75.10   74.0  1.10"
      ]
     },
     "execution_count": 68,
     "metadata": {},
     "output_type": "execute_result"
    }
   ],
   "source": [
    "df_Sub.sort_values(\"相差\",ascending=False).head()"
   ]
  },
  {
   "cell_type": "code",
   "execution_count": null,
   "metadata": {},
   "outputs": [],
   "source": []
  }
 ],
 "metadata": {
  "kernelspec": {
   "display_name": "Python 3",
   "language": "python",
   "name": "python3"
  },
  "language_info": {
   "codemirror_mode": {
    "name": "ipython",
    "version": 3
   },
   "file_extension": ".py",
   "mimetype": "text/x-python",
   "name": "python",
   "nbconvert_exporter": "python",
   "pygments_lexer": "ipython3",
   "version": "3.7.3"
  }
 },
 "nbformat": 4,
 "nbformat_minor": 2
}
