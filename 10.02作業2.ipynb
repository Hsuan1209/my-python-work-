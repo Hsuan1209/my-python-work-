{
 "cells": [
  {
   "cell_type": "code",
   "execution_count": 1,
   "metadata": {},
   "outputs": [],
   "source": [
    "%matplotlib inline\n",
    "\n",
    "import numpy as np\n",
    "import matplotlib.pyplot as plt\n",
    "import pandas as pd"
   ]
  },
  {
   "cell_type": "markdown",
   "metadata": {},
   "source": [
    "## 作業二   機器人猜數字    (有時候會一直選同一個數字)(有時候也會出錯)"
   ]
  },
  {
   "cell_type": "code",
   "execution_count": 3,
   "metadata": {},
   "outputs": [
    {
     "name": "stdout",
     "output_type": "stream",
     "text": [
      "請輸入1-100:26\n",
      "拍拍猜: 47\n",
      "請猜 1 到 47\n",
      "拍拍猜: 33\n",
      "請猜 1 到 33\n",
      "拍拍猜: 10\n",
      "請猜 10 到 33\n",
      "拍拍猜: 22\n",
      "請猜 22 到 33\n",
      "拍拍猜: 28\n",
      "請猜 22 到 28\n",
      "拍拍猜: 25\n",
      "請猜 25 到 28\n",
      "拍拍猜: 27\n",
      "請猜 25 到 27\n",
      "拍拍猜: 25\n",
      "請猜 25 到 27\n",
      "拍拍猜: 26\n",
      "恭喜你!答對了!\n"
     ]
    }
   ],
   "source": [
    "x = int(input(\"請輸入1-100:\"))   ###排除1和100\n",
    "i = np.random.randint(1,101)\n",
    "k = 100\n",
    "m = 1\n",
    "print(\"拍拍猜:\",i)\n",
    "for o in range(1,100):\n",
    "    if i < x:\n",
    "        print(\"請猜\",i,\"到\",k)\n",
    "        \n",
    "        h = np.random.randint(i,k)\n",
    "        print(\"拍拍猜:\",h)\n",
    "        if x == j:\n",
    "            print(\"恭喜你!答對了!\")\n",
    "            break\n",
    "        elif i<h<x:\n",
    "            i = h\n",
    "        \n",
    "        else:\n",
    "            k = h\n",
    "    elif i > x:\n",
    "        print(\"請猜\",m,\"到\",i)\n",
    "        \n",
    "        j = np.random.randint(m,i)\n",
    "        print(\"拍拍猜:\",j)\n",
    "        if x == j:\n",
    "            print(\"恭喜你!答對了!\")\n",
    "            break\n",
    "        elif j>x:\n",
    "            i = j\n",
    "        \n",
    "        else:\n",
    "            m = j\n",
    "            \n",
    "    else:\n",
    "        print(\"恭喜你!答對了!\")\n",
    "        break"
   ]
  },
  {
   "cell_type": "code",
   "execution_count": null,
   "metadata": {},
   "outputs": [],
   "source": []
  }
 ],
 "metadata": {
  "kernelspec": {
   "display_name": "Python 3",
   "language": "python",
   "name": "python3"
  },
  "language_info": {
   "codemirror_mode": {
    "name": "ipython",
    "version": 3
   },
   "file_extension": ".py",
   "mimetype": "text/x-python",
   "name": "python",
   "nbconvert_exporter": "python",
   "pygments_lexer": "ipython3",
   "version": "3.7.3"
  }
 },
 "nbformat": 4,
 "nbformat_minor": 2
}
