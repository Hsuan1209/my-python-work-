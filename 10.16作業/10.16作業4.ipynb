{
 "cells": [
  {
   "cell_type": "markdown",
   "metadata": {},
   "source": [
    "# 作業四"
   ]
  },
  {
   "cell_type": "code",
   "execution_count": 1,
   "metadata": {},
   "outputs": [],
   "source": [
    "%matplotlib inline\n",
    "\n",
    "import numpy as np\n",
    "import matplotlib.pyplot as plt\n",
    "import pandas as pd"
   ]
  },
  {
   "cell_type": "code",
   "execution_count": 2,
   "metadata": {},
   "outputs": [],
   "source": [
    "from numpy.random import randint"
   ]
  },
  {
   "cell_type": "code",
   "execution_count": 15,
   "metadata": {},
   "outputs": [
    {
     "name": "stdout",
     "output_type": "stream",
     "text": [
      "請問你要猜大還是猜小?(h or l)h\n",
      "結果是7\n",
      "哇!莊家通殺呢!\n"
     ]
    }
   ],
   "source": [
    "a = randint(1,7)\n",
    "sum1 = 0\n",
    "u =input(\"請問你要猜大還是猜小?(h or l)\")\n",
    "for i in range(2):\n",
    "    a = randint(1,7)\n",
    "    sum1 = sum1 + a\n",
    "if u == \"h\":\n",
    "    print(\"結果是\"+str(sum1))\n",
    "    if sum1 > 7:\n",
    "        print(\"你贏了!恭喜!\")\n",
    "    elif sum1 < 7:\n",
    "        print(\"哎呀!你輸了!\")\n",
    "    else:\n",
    "        print(\"哇!莊家通殺呢!\")\n",
    "elif u == \"l\":\n",
    "    print(\"結果是\"+str(sum1))\n",
    "    if sum1 < 7:\n",
    "        print(\"你贏了!恭喜!\")\n",
    "    elif sum1 > 7:\n",
    "        print(\"哎呀!你輸了!\")\n",
    "    else:\n",
    "        print(\"哇!莊家通殺呢!\") \n",
    "else:\n",
    "    print(\"這個輸入無效\")"
   ]
  },
  {
   "cell_type": "code",
   "execution_count": null,
   "metadata": {},
   "outputs": [],
   "source": []
  }
 ],
 "metadata": {
  "kernelspec": {
   "display_name": "Python 3",
   "language": "python",
   "name": "python3"
  },
  "language_info": {
   "codemirror_mode": {
    "name": "ipython",
    "version": 3
   },
   "file_extension": ".py",
   "mimetype": "text/x-python",
   "name": "python",
   "nbconvert_exporter": "python",
   "pygments_lexer": "ipython3",
   "version": "3.7.3"
  }
 },
 "nbformat": 4,
 "nbformat_minor": 2
}
