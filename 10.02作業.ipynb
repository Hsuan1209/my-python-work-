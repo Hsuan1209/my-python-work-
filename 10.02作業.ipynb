{
 "cells": [
  {
   "cell_type": "code",
   "execution_count": 1,
   "metadata": {},
   "outputs": [],
   "source": [
    "%matplotlib inline\n",
    "\n",
    "import numpy as np\n",
    "import matplotlib.pyplot as plt\n",
    "import pandas as pd"
   ]
  },
  {
   "cell_type": "markdown",
   "metadata": {},
   "source": [
    "### 射龍門"
   ]
  },
  {
   "cell_type": "code",
   "execution_count": 26,
   "metadata": {},
   "outputs": [
    {
     "name": "stdout",
     "output_type": "stream",
     "text": [
      "龍柱為: 3 , 13\n",
      "請問你要下注嗎?(y or n)y\n",
      "你的牌值為: 13\n",
      "哎呀!撞龍柱了!\n"
     ]
    }
   ],
   "source": [
    "a = np.random.randint(1,14)\n",
    "b = np.random.randint(1,14)\n",
    "c = np.random.randint(1,14)\n",
    "if a>b:\n",
    "    print(\"龍柱為:\",b,\",\",a)\n",
    "    k = input(\"請問你要下注嗎?(y or n)\")\n",
    "    if k == \"y\":\n",
    "        print(\"你的牌值為:\",c)\n",
    "        if b<c<a:\n",
    "            print(\"恭喜你,你贏了!\")\n",
    "        elif c<b:\n",
    "            print(\"真可惜,你輸了!\")\n",
    "        elif c>a:\n",
    "            print(\"真可惜,你輸了!\")\n",
    "        else:\n",
    "            print(\"哎呀!撞龍柱了!\")\n",
    "    else:\n",
    "        print(\"你的牌值為:\",c)\n",
    "        if b<c<a:\n",
    "            print(\"你贏了!但沒錢!\")\n",
    "        elif c<b:\n",
    "            print(\"你輸了,還好還好!\")\n",
    "        elif c>a:\n",
    "            print(\"你輸了,還好還好!\")\n",
    "        else:\n",
    "            print(\"哎呀!撞龍柱了!幸好!\")\n",
    "        \n",
    "elif a == b:\n",
    "    print(\"龍柱為:\",a,\",\",b)\n",
    "    m = input(\"請問你要下注嗎?(y or n)\")\n",
    "    if m == \"y\":\n",
    "        x = input(\"請問你要選大還是選小?(H or L)\")\n",
    "        if x == \"H\":\n",
    "            print(\"你的牌值為:\",c)\n",
    "            if c>a:\n",
    "                print(\"恭喜你,你贏了!\")\n",
    "            elif c<a:\n",
    "                print(\"真可惜,你輸了!\")\n",
    "            else:\n",
    "                print(\"哎呀!撞龍柱了!\")\n",
    "        else:\n",
    "            print(\"你的牌值為:\",c)\n",
    "            if c<a:\n",
    "                print(\"恭喜你,你贏了!\")\n",
    "            elif c>a:\n",
    "                print(\"真可惜,你輸了!\")\n",
    "            else:\n",
    "                print(\"哎呀!撞龍柱了!\")\n",
    "    else:\n",
    "        print(\"你的牌值為:\",c)\n",
    "else:\n",
    "    print(\"龍柱為:\",a,\",\",b)\n",
    "    f = input(\"請問你要下注嗎?(y or n)\")\n",
    "    if f == \"y\":\n",
    "        print(\"你的牌值為:\",c)\n",
    "        if a<c<b:\n",
    "            print(\"恭喜你,你贏了!\")\n",
    "        elif c<a:\n",
    "            print(\"真可惜,你輸了!\")\n",
    "        elif c>b:\n",
    "            print(\"真可惜,你輸了!\")\n",
    "        else:\n",
    "            print(\"哎呀!撞龍柱了!\")\n",
    "    else:\n",
    "        print(\"你的牌值為:\",c)\n",
    "        if a<c<b:\n",
    "            print(\"你贏了!但沒錢!\")\n",
    "        elif c<a:\n",
    "            print(\"你輸了,還好還好!\")\n",
    "        elif c>b:\n",
    "            print(\"你輸了,還好還好!\")\n",
    "        else:\n",
    "            print(\"哎呀!撞龍柱了!幸好!\")\n",
    "        "
   ]
  },
  {
   "cell_type": "code",
   "execution_count": null,
   "metadata": {},
   "outputs": [],
   "source": []
  }
 ],
 "metadata": {
  "kernelspec": {
   "display_name": "Python 3",
   "language": "python",
   "name": "python3"
  },
  "language_info": {
   "codemirror_mode": {
    "name": "ipython",
    "version": 3
   },
   "file_extension": ".py",
   "mimetype": "text/x-python",
   "name": "python",
   "nbconvert_exporter": "python",
   "pygments_lexer": "ipython3",
   "version": "3.7.3"
  }
 },
 "nbformat": 4,
 "nbformat_minor": 2
}
