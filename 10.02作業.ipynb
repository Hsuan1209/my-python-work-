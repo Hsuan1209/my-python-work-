{
 "cells": [
  {
   "cell_type": "code",
   "execution_count": 45,
   "metadata": {},
   "outputs": [],
   "source": [
    "%matplotlib inline\n",
    "\n",
    "import numpy as np\n",
    "import matplotlib.pyplot as plt\n",
    "import pandas as pd"
   ]
  },
  {
   "cell_type": "markdown",
   "metadata": {},
   "source": [
    "## 作業一   射龍門"
   ]
  },
  {
   "cell_type": "code",
   "execution_count": 46,
   "metadata": {},
   "outputs": [
    {
     "name": "stdout",
     "output_type": "stream",
     "text": [
      "龍柱為: 2 , 10\n",
      "請問你要下注嗎?(y or n)y\n",
      "你的牌值為: 3\n",
      "恭喜你,你贏了!\n"
     ]
    }
   ],
   "source": [
    "a = np.random.randint(1,14)\n",
    "b = np.random.randint(1,14)\n",
    "c = np.random.randint(1,14)\n",
    "if a>b:\n",
    "    print(\"龍柱為:\",b,\",\",a)\n",
    "    k = input(\"請問你要下注嗎?(y or n)\")\n",
    "    if k == \"y\":\n",
    "        print(\"你的牌值為:\",c)\n",
    "        if b<c<a:\n",
    "            print(\"恭喜你,你贏了!\")\n",
    "        elif c<b:\n",
    "            print(\"真可惜,你輸了!\")\n",
    "        elif c>a:\n",
    "            print(\"真可惜,你輸了!\")\n",
    "        else:\n",
    "            print(\"哎呀!撞龍柱了!\")\n",
    "    else:\n",
    "        print(\"你的牌值為:\",c)\n",
    "        if b<c<a:\n",
    "            print(\"你贏了!但沒錢!\")\n",
    "        elif c<b:\n",
    "            print(\"你輸了,還好還好!\")\n",
    "        elif c>a:\n",
    "            print(\"你輸了,還好還好!\")\n",
    "        else:\n",
    "            print(\"哎呀!撞龍柱了!幸好!\")\n",
    "        \n",
    "elif a == b:\n",
    "    print(\"龍柱為:\",a,\",\",b)\n",
    "    m = input(\"請問你要下注嗎?(y or n)\")\n",
    "    if m == \"y\":\n",
    "        x = input(\"請問你要選大還是選小?(H or L)\")\n",
    "        if x == \"H\":\n",
    "            print(\"你的牌值為:\",c)\n",
    "            if c>a:\n",
    "                print(\"恭喜你,你贏了!\")\n",
    "            elif c<a:\n",
    "                print(\"真可惜,你輸了!\")\n",
    "            else:\n",
    "                print(\"哎呀!撞龍柱了!\")\n",
    "        else:\n",
    "            print(\"你的牌值為:\",c)\n",
    "            if c<a:\n",
    "                print(\"恭喜你,你贏了!\")\n",
    "            elif c>a:\n",
    "                print(\"真可惜,你輸了!\")\n",
    "            else:\n",
    "                print(\"哎呀!撞龍柱了!\")\n",
    "    else:\n",
    "        print(\"你的牌值為:\",c)\n",
    "else:\n",
    "    print(\"龍柱為:\",a,\",\",b)\n",
    "    f = input(\"請問你要下注嗎?(y or n)\")\n",
    "    if f == \"y\":\n",
    "        print(\"你的牌值為:\",c)\n",
    "        if a<c<b:\n",
    "            print(\"恭喜你,你贏了!\")\n",
    "        elif c<a:\n",
    "            print(\"真可惜,你輸了!\")\n",
    "        elif c>b:\n",
    "            print(\"真可惜,你輸了!\")\n",
    "        else:\n",
    "            print(\"哎呀!撞龍柱了!\")\n",
    "    else:\n",
    "        print(\"你的牌值為:\",c)\n",
    "        if a<c<b:\n",
    "            print(\"你贏了!但沒錢!\")\n",
    "        elif c<a:\n",
    "            print(\"你輸了,還好還好!\")\n",
    "        elif c>b:\n",
    "            print(\"你輸了,還好還好!\")\n",
    "        else:\n",
    "            print(\"哎呀!撞龍柱了!幸好!\")\n",
    "        "
   ]
  },
  {
   "cell_type": "markdown",
   "metadata": {},
   "source": [
    "## 作業二   機器人猜數字    (有時候會一直選同一個數字)(有時候也會出錯)"
   ]
  },
  {
   "cell_type": "code",
   "execution_count": 47,
   "metadata": {},
   "outputs": [
    {
     "name": "stdout",
     "output_type": "stream",
     "text": [
      "請輸入1-100:26\n",
      "拍拍猜: 65\n",
      "請猜 1 到 65\n",
      "拍拍猜: 35\n",
      "請猜 1 到 35\n",
      "拍拍猜: 4\n",
      "請猜 4 到 35\n",
      "拍拍猜: 22\n",
      "請猜 22 到 35\n",
      "拍拍猜: 23\n",
      "請猜 23 到 35\n",
      "拍拍猜: 25\n",
      "請猜 25 到 35\n",
      "拍拍猜: 28\n",
      "請猜 25 到 28\n",
      "拍拍猜: 27\n",
      "請猜 25 到 27\n",
      "拍拍猜: 25\n",
      "請猜 25 到 27\n",
      "拍拍猜: 26\n",
      "恭喜你!答對了!\n"
     ]
    }
   ],
   "source": [
    "x = int(input(\"請輸入1-100:\"))   ###排除1和100\n",
    "i = np.random.randint(1,101)\n",
    "k = 100\n",
    "m = 1\n",
    "print(\"拍拍猜:\",i)\n",
    "for o in range(1,100):\n",
    "    if i < x:\n",
    "        print(\"請猜\",i,\"到\",k)\n",
    "        \n",
    "        h = np.random.randint(i,k)\n",
    "        print(\"拍拍猜:\",h)\n",
    "        if x == j:\n",
    "            print(\"恭喜你!答對了!\")\n",
    "            break\n",
    "        elif i<h<x:\n",
    "            i = h\n",
    "        \n",
    "        else:\n",
    "            k = h\n",
    "    elif i > x:\n",
    "        print(\"請猜\",m,\"到\",i)\n",
    "        \n",
    "        j = np.random.randint(m,i)\n",
    "        print(\"拍拍猜:\",j)\n",
    "        if x == j:\n",
    "            print(\"恭喜你!答對了!\")\n",
    "            break\n",
    "        elif j>x:\n",
    "            i = j\n",
    "        \n",
    "        else:\n",
    "            m = j\n",
    "            \n",
    "    else:\n",
    "        print(\"恭喜你!答對了!\")\n",
    "        break"
   ]
  },
  {
   "cell_type": "code",
   "execution_count": null,
   "metadata": {},
   "outputs": [],
   "source": []
  }
 ],
 "metadata": {
  "kernelspec": {
   "display_name": "Python 3",
   "language": "python",
   "name": "python3"
  },
  "language_info": {
   "codemirror_mode": {
    "name": "ipython",
    "version": 3
   },
   "file_extension": ".py",
   "mimetype": "text/x-python",
   "name": "python",
   "nbconvert_exporter": "python",
   "pygments_lexer": "ipython3",
   "version": "3.7.3"
  }
 },
 "nbformat": 4,
 "nbformat_minor": 2
}
