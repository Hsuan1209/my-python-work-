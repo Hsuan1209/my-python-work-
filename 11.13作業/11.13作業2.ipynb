{
 "cells": [
  {
   "cell_type": "code",
   "execution_count": 2,
   "metadata": {},
   "outputs": [],
   "source": [
    "%matplotlib inline \n",
    "import numpy as np\n",
    "import matplotlib.pyplot as plt\n",
    "import pandas as pd"
   ]
  },
  {
   "cell_type": "markdown",
   "metadata": {},
   "source": [
    "# 輸入資料一"
   ]
  },
  {
   "cell_type": "code",
   "execution_count": 68,
   "metadata": {},
   "outputs": [],
   "source": [
    "df = pd.read_html('http://www.8pu.com/gdp/ranking_2019.html')"
   ]
  },
  {
   "cell_type": "code",
   "execution_count": 69,
   "metadata": {},
   "outputs": [],
   "source": [
    "df = df[0]"
   ]
  },
  {
   "cell_type": "code",
   "execution_count": 70,
   "metadata": {},
   "outputs": [
    {
     "data": {
      "text/html": [
       "<div>\n",
       "<style scoped>\n",
       "    .dataframe tbody tr th:only-of-type {\n",
       "        vertical-align: middle;\n",
       "    }\n",
       "\n",
       "    .dataframe tbody tr th {\n",
       "        vertical-align: top;\n",
       "    }\n",
       "\n",
       "    .dataframe thead th {\n",
       "        text-align: right;\n",
       "    }\n",
       "</style>\n",
       "<table border=\"1\" class=\"dataframe\">\n",
       "  <thead>\n",
       "    <tr style=\"text-align: right;\">\n",
       "      <th></th>\n",
       "      <th>GDP总量排名</th>\n",
       "      <th>国家名称</th>\n",
       "      <th>单位亿美元</th>\n",
       "      <th>GDP总量(人民币亿元)</th>\n",
       "      <th>GDP总量(人民币亿元).1</th>\n",
       "      <th>地区</th>\n",
       "    </tr>\n",
       "  </thead>\n",
       "  <tbody>\n",
       "    <tr>\n",
       "      <th>0</th>\n",
       "      <td>排名第1</td>\n",
       "      <td>美国</td>\n",
       "      <td>$210244.2亿</td>\n",
       "      <td>￥1368689.742亿元</td>\n",
       "      <td>壹佰叁拾陆万捌仟陆佰捌拾玖亿元</td>\n",
       "      <td>美洲国家</td>\n",
       "    </tr>\n",
       "    <tr>\n",
       "      <th>1</th>\n",
       "      <td>排名第2</td>\n",
       "      <td>中国</td>\n",
       "      <td>$142433.7亿</td>\n",
       "      <td>￥927243.387亿元</td>\n",
       "      <td>玖拾贰万柒仟贰佰肆拾叁亿元</td>\n",
       "      <td>亚洲国家</td>\n",
       "    </tr>\n",
       "    <tr>\n",
       "      <th>2</th>\n",
       "      <td>排名第3</td>\n",
       "      <td>日本</td>\n",
       "      <td>$52053亿</td>\n",
       "      <td>￥338865.03亿元</td>\n",
       "      <td>叁拾叁万捌仟捌佰陆拾伍亿元</td>\n",
       "      <td>亚洲国家</td>\n",
       "    </tr>\n",
       "    <tr>\n",
       "      <th>3</th>\n",
       "      <td>排名第4</td>\n",
       "      <td>德国</td>\n",
       "      <td>$40742.3亿</td>\n",
       "      <td>￥265232.373亿元</td>\n",
       "      <td>贰拾陆万伍仟贰佰叁拾贰亿元</td>\n",
       "      <td>欧洲国家</td>\n",
       "    </tr>\n",
       "    <tr>\n",
       "      <th>4</th>\n",
       "      <td>排名第5</td>\n",
       "      <td>印度</td>\n",
       "      <td>$29262.4亿</td>\n",
       "      <td>￥190498.224亿元</td>\n",
       "      <td>壹拾玖万零肆佰玖拾捌亿元</td>\n",
       "      <td>亚洲国家</td>\n",
       "    </tr>\n",
       "  </tbody>\n",
       "</table>\n",
       "</div>"
      ],
      "text/plain": [
       "  GDP总量排名 国家名称       单位亿美元    GDP总量(人民币亿元)   GDP总量(人民币亿元).1    地区\n",
       "0    排名第1   美国  $210244.2亿  ￥1368689.742亿元  壹佰叁拾陆万捌仟陆佰捌拾玖亿元  美洲国家\n",
       "1    排名第2   中国  $142433.7亿   ￥927243.387亿元    玖拾贰万柒仟贰佰肆拾叁亿元  亚洲国家\n",
       "2    排名第3   日本     $52053亿    ￥338865.03亿元    叁拾叁万捌仟捌佰陆拾伍亿元  亚洲国家\n",
       "3    排名第4   德国   $40742.3亿   ￥265232.373亿元    贰拾陆万伍仟贰佰叁拾贰亿元  欧洲国家\n",
       "4    排名第5   印度   $29262.4亿   ￥190498.224亿元     壹拾玖万零肆佰玖拾捌亿元  亚洲国家"
      ]
     },
     "execution_count": 70,
     "metadata": {},
     "output_type": "execute_result"
    }
   ],
   "source": [
    "df.head()"
   ]
  },
  {
   "cell_type": "code",
   "execution_count": 71,
   "metadata": {},
   "outputs": [],
   "source": [
    "df_rank = df[['GDP总量排名','国家名称','地区']]"
   ]
  },
  {
   "cell_type": "code",
   "execution_count": 72,
   "metadata": {},
   "outputs": [
    {
     "data": {
      "text/html": [
       "<div>\n",
       "<style scoped>\n",
       "    .dataframe tbody tr th:only-of-type {\n",
       "        vertical-align: middle;\n",
       "    }\n",
       "\n",
       "    .dataframe tbody tr th {\n",
       "        vertical-align: top;\n",
       "    }\n",
       "\n",
       "    .dataframe thead th {\n",
       "        text-align: right;\n",
       "    }\n",
       "</style>\n",
       "<table border=\"1\" class=\"dataframe\">\n",
       "  <thead>\n",
       "    <tr style=\"text-align: right;\">\n",
       "      <th></th>\n",
       "      <th>GDP总量排名</th>\n",
       "      <th>国家名称</th>\n",
       "      <th>地区</th>\n",
       "    </tr>\n",
       "  </thead>\n",
       "  <tbody>\n",
       "    <tr>\n",
       "      <th>1</th>\n",
       "      <td>排名第2</td>\n",
       "      <td>中国</td>\n",
       "      <td>亚洲国家</td>\n",
       "    </tr>\n",
       "    <tr>\n",
       "      <th>2</th>\n",
       "      <td>排名第3</td>\n",
       "      <td>日本</td>\n",
       "      <td>亚洲国家</td>\n",
       "    </tr>\n",
       "    <tr>\n",
       "      <th>4</th>\n",
       "      <td>排名第5</td>\n",
       "      <td>印度</td>\n",
       "      <td>亚洲国家</td>\n",
       "    </tr>\n",
       "    <tr>\n",
       "      <th>10</th>\n",
       "      <td>排名第11</td>\n",
       "      <td>韩国</td>\n",
       "      <td>亚洲国家</td>\n",
       "    </tr>\n",
       "    <tr>\n",
       "      <th>15</th>\n",
       "      <td>排名第16</td>\n",
       "      <td>印度尼西亚</td>\n",
       "      <td>亚洲国家</td>\n",
       "    </tr>\n",
       "  </tbody>\n",
       "</table>\n",
       "</div>"
      ],
      "text/plain": [
       "   GDP总量排名   国家名称    地区\n",
       "1     排名第2     中国  亚洲国家\n",
       "2     排名第3     日本  亚洲国家\n",
       "4     排名第5     印度  亚洲国家\n",
       "10   排名第11     韩国  亚洲国家\n",
       "15   排名第16  印度尼西亚  亚洲国家"
      ]
     },
     "execution_count": 72,
     "metadata": {},
     "output_type": "execute_result"
    }
   ],
   "source": [
    "df_rank[df_rank.地区==\"亚洲国家\"].head()"
   ]
  },
  {
   "cell_type": "markdown",
   "metadata": {},
   "source": [
    "# 輸入資料二"
   ]
  },
  {
   "cell_type": "code",
   "execution_count": 73,
   "metadata": {},
   "outputs": [],
   "source": [
    "df1 = pd.read_html('http://www.8pu.com/gdp/per_capita_gdp_2019.html')"
   ]
  },
  {
   "cell_type": "code",
   "execution_count": 74,
   "metadata": {},
   "outputs": [],
   "source": [
    "df1 = df1[0]"
   ]
  },
  {
   "cell_type": "code",
   "execution_count": 75,
   "metadata": {},
   "outputs": [
    {
     "data": {
      "text/html": [
       "<div>\n",
       "<style scoped>\n",
       "    .dataframe tbody tr th:only-of-type {\n",
       "        vertical-align: middle;\n",
       "    }\n",
       "\n",
       "    .dataframe tbody tr th {\n",
       "        vertical-align: top;\n",
       "    }\n",
       "\n",
       "    .dataframe thead th {\n",
       "        text-align: right;\n",
       "    }\n",
       "</style>\n",
       "<table border=\"1\" class=\"dataframe\">\n",
       "  <thead>\n",
       "    <tr style=\"text-align: right;\">\n",
       "      <th></th>\n",
       "      <th>人均GDP排名</th>\n",
       "      <th>国家名称</th>\n",
       "      <th>人均GDP单位美元</th>\n",
       "      <th>人均GDP人民币元</th>\n",
       "    </tr>\n",
       "  </thead>\n",
       "  <tbody>\n",
       "    <tr>\n",
       "      <th>0</th>\n",
       "      <td>排名第1</td>\n",
       "      <td>卢森堡</td>\n",
       "      <td>$117160.71美元</td>\n",
       "      <td>￥7627162.221元</td>\n",
       "    </tr>\n",
       "    <tr>\n",
       "      <th>1</th>\n",
       "      <td>排名第2</td>\n",
       "      <td>澳门</td>\n",
       "      <td>$92492.19美元</td>\n",
       "      <td>￥6021241.569元</td>\n",
       "    </tr>\n",
       "    <tr>\n",
       "      <th>2</th>\n",
       "      <td>排名第3</td>\n",
       "      <td>冰岛</td>\n",
       "      <td>$89388.88美元</td>\n",
       "      <td>￥5819216.088元</td>\n",
       "    </tr>\n",
       "    <tr>\n",
       "      <th>3</th>\n",
       "      <td>排名第4</td>\n",
       "      <td>瑞士</td>\n",
       "      <td>$84665.28美元</td>\n",
       "      <td>￥5511709.728元</td>\n",
       "    </tr>\n",
       "    <tr>\n",
       "      <th>4</th>\n",
       "      <td>排名第5</td>\n",
       "      <td>爱尔兰</td>\n",
       "      <td>$77742.08美元</td>\n",
       "      <td>￥5061009.408元</td>\n",
       "    </tr>\n",
       "  </tbody>\n",
       "</table>\n",
       "</div>"
      ],
      "text/plain": [
       "  人均GDP排名 国家名称     人均GDP单位美元      人均GDP人民币元\n",
       "0    排名第1  卢森堡  $117160.71美元  ￥7627162.221元\n",
       "1    排名第2   澳门   $92492.19美元  ￥6021241.569元\n",
       "2    排名第3   冰岛   $89388.88美元  ￥5819216.088元\n",
       "3    排名第4   瑞士   $84665.28美元  ￥5511709.728元\n",
       "4    排名第5  爱尔兰   $77742.08美元  ￥5061009.408元"
      ]
     },
     "execution_count": 75,
     "metadata": {},
     "output_type": "execute_result"
    }
   ],
   "source": [
    "df1.head()"
   ]
  },
  {
   "cell_type": "code",
   "execution_count": 76,
   "metadata": {},
   "outputs": [],
   "source": [
    "df1_rank = df1[['人均GDP排名','国家名称',]]"
   ]
  },
  {
   "cell_type": "code",
   "execution_count": 77,
   "metadata": {},
   "outputs": [
    {
     "data": {
      "text/html": [
       "<div>\n",
       "<style scoped>\n",
       "    .dataframe tbody tr th:only-of-type {\n",
       "        vertical-align: middle;\n",
       "    }\n",
       "\n",
       "    .dataframe tbody tr th {\n",
       "        vertical-align: top;\n",
       "    }\n",
       "\n",
       "    .dataframe thead th {\n",
       "        text-align: right;\n",
       "    }\n",
       "</style>\n",
       "<table border=\"1\" class=\"dataframe\">\n",
       "  <thead>\n",
       "    <tr style=\"text-align: right;\">\n",
       "      <th></th>\n",
       "      <th>人均GDP排名</th>\n",
       "      <th>国家名称</th>\n",
       "    </tr>\n",
       "  </thead>\n",
       "  <tbody>\n",
       "    <tr>\n",
       "      <th>7</th>\n",
       "      <td>排名第8</td>\n",
       "      <td>美国</td>\n",
       "    </tr>\n",
       "  </tbody>\n",
       "</table>\n",
       "</div>"
      ],
      "text/plain": [
       "  人均GDP排名 国家名称\n",
       "7    排名第8   美国"
      ]
     },
     "execution_count": 77,
     "metadata": {},
     "output_type": "execute_result"
    }
   ],
   "source": [
    "df1_rank[df1_rank.国家名称==\"美国\"]"
   ]
  },
  {
   "cell_type": "markdown",
   "metadata": {},
   "source": [
    "# 比較資料"
   ]
  },
  {
   "cell_type": "code",
   "execution_count": 80,
   "metadata": {},
   "outputs": [
    {
     "name": "stdout",
     "output_type": "stream",
     "text": [
      "請輸入欲查詢人均GDP之國家:瑞士\n"
     ]
    },
    {
     "data": {
      "text/html": [
       "<div>\n",
       "<style scoped>\n",
       "    .dataframe tbody tr th:only-of-type {\n",
       "        vertical-align: middle;\n",
       "    }\n",
       "\n",
       "    .dataframe tbody tr th {\n",
       "        vertical-align: top;\n",
       "    }\n",
       "\n",
       "    .dataframe thead th {\n",
       "        text-align: right;\n",
       "    }\n",
       "</style>\n",
       "<table border=\"1\" class=\"dataframe\">\n",
       "  <thead>\n",
       "    <tr style=\"text-align: right;\">\n",
       "      <th></th>\n",
       "      <th>GDP总量排名</th>\n",
       "      <th>国家名称</th>\n",
       "      <th>地区</th>\n",
       "    </tr>\n",
       "  </thead>\n",
       "  <tbody>\n",
       "    <tr>\n",
       "      <th>19</th>\n",
       "      <td>排名第20</td>\n",
       "      <td>瑞士</td>\n",
       "      <td>欧洲国家</td>\n",
       "    </tr>\n",
       "  </tbody>\n",
       "</table>\n",
       "</div>"
      ],
      "text/plain": [
       "   GDP总量排名 国家名称    地区\n",
       "19   排名第20   瑞士  欧洲国家"
      ]
     },
     "execution_count": 80,
     "metadata": {},
     "output_type": "execute_result"
    }
   ],
   "source": [
    "df_rank[df_rank.国家名称==input(\"請輸入欲查詢人均GDP之國家:\")]"
   ]
  },
  {
   "cell_type": "code",
   "execution_count": 81,
   "metadata": {},
   "outputs": [
    {
     "name": "stdout",
     "output_type": "stream",
     "text": [
      "請輸入欲查詢GDP總量之國家:瑞士\n"
     ]
    },
    {
     "data": {
      "text/html": [
       "<div>\n",
       "<style scoped>\n",
       "    .dataframe tbody tr th:only-of-type {\n",
       "        vertical-align: middle;\n",
       "    }\n",
       "\n",
       "    .dataframe tbody tr th {\n",
       "        vertical-align: top;\n",
       "    }\n",
       "\n",
       "    .dataframe thead th {\n",
       "        text-align: right;\n",
       "    }\n",
       "</style>\n",
       "<table border=\"1\" class=\"dataframe\">\n",
       "  <thead>\n",
       "    <tr style=\"text-align: right;\">\n",
       "      <th></th>\n",
       "      <th>人均GDP排名</th>\n",
       "      <th>国家名称</th>\n",
       "    </tr>\n",
       "  </thead>\n",
       "  <tbody>\n",
       "    <tr>\n",
       "      <th>3</th>\n",
       "      <td>排名第4</td>\n",
       "      <td>瑞士</td>\n",
       "    </tr>\n",
       "  </tbody>\n",
       "</table>\n",
       "</div>"
      ],
      "text/plain": [
       "  人均GDP排名 国家名称\n",
       "3    排名第4   瑞士"
      ]
     },
     "execution_count": 81,
     "metadata": {},
     "output_type": "execute_result"
    }
   ],
   "source": [
    "df1_rank[df1_rank.国家名称==input(\"請輸入欲查詢GDP總量之國家:\")]"
   ]
  },
  {
   "cell_type": "code",
   "execution_count": null,
   "metadata": {},
   "outputs": [],
   "source": []
  }
 ],
 "metadata": {
  "kernelspec": {
   "display_name": "Python 3",
   "language": "python",
   "name": "python3"
  },
  "language_info": {
   "codemirror_mode": {
    "name": "ipython",
    "version": 3
   },
   "file_extension": ".py",
   "mimetype": "text/x-python",
   "name": "python",
   "nbconvert_exporter": "python",
   "pygments_lexer": "ipython3",
   "version": "3.7.3"
  }
 },
 "nbformat": 4,
 "nbformat_minor": 2
}
