{
 "cells": [
  {
   "cell_type": "markdown",
   "metadata": {},
   "source": [
    "## 作業三 簡易記帳"
   ]
  },
  {
   "cell_type": "code",
   "execution_count": 2,
   "metadata": {},
   "outputs": [],
   "source": [
    "%matplotlib inline\n",
    "\n",
    "import numpy as np\n",
    "import matplotlib.pyplot as plt\n",
    "import pandas as pd"
   ]
  },
  {
   "cell_type": "code",
   "execution_count": 4,
   "metadata": {},
   "outputs": [
    {
     "name": "stdout",
     "output_type": "stream",
     "text": [
      "早餐:30\n",
      "午餐:50\n",
      "晚餐:70\n",
      "零食:0\n",
      "飲料:45\n",
      "其他:10\n",
      "特別支出:200\n",
      "車費:35\n",
      "今日花費為: 440\n"
     ]
    }
   ],
   "source": [
    "a = int(input(\"早餐:\"))\n",
    "b = int(input(\"午餐:\"))\n",
    "c = int(input(\"晚餐:\"))\n",
    "d = int(input(\"零食:\"))\n",
    "e = int(input(\"飲料:\"))\n",
    "f = int(input(\"其他:\"))     #生活用品...\n",
    "g = int(input(\"特別支出:\"))     #書費...\n",
    "h = int(input(\"車費:\"))\n",
    "i = a+b+c+d+e+f+g+h\n",
    "print(\"今日花費為:\",i)"
   ]
  },
  {
   "cell_type": "code",
   "execution_count": null,
   "metadata": {},
   "outputs": [],
   "source": []
  }
 ],
 "metadata": {
  "kernelspec": {
   "display_name": "Python 3",
   "language": "python",
   "name": "python3"
  },
  "language_info": {
   "codemirror_mode": {
    "name": "ipython",
    "version": 3
   },
   "file_extension": ".py",
   "mimetype": "text/x-python",
   "name": "python",
   "nbconvert_exporter": "python",
   "pygments_lexer": "ipython3",
   "version": "3.7.3"
  }
 },
 "nbformat": 4,
 "nbformat_minor": 2
}
