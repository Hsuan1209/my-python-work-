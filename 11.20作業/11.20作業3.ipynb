{
 "cells": [
  {
   "cell_type": "markdown",
   "metadata": {},
   "source": [
    "# 換算溫度"
   ]
  },
  {
   "cell_type": "code",
   "execution_count": 1,
   "metadata": {},
   "outputs": [],
   "source": [
    "%matplotlib inline\n",
    "import numpy as np\n",
    "import matplotlib.pyplot as plt\n",
    "import pandas as pd"
   ]
  },
  {
   "cell_type": "code",
   "execution_count": 4,
   "metadata": {},
   "outputs": [
    {
     "name": "stdout",
     "output_type": "stream",
     "text": [
      "請輸入溫度:27\n",
      "華氏溫度為: 80.6 度\n",
      "克氏溫度為: 300.15\n",
      "蘭金溫度為: 540.27\n",
      "德利爾溫度為: 109.5 度\n",
      "牛頓溫度為: 8.91 度\n",
      "列氏溫度為: 21.6 度\n",
      "羅氏溫度為: 21.675 度\n"
     ]
    }
   ],
   "source": [
    "C = float(input(\"請輸入溫度:\"))\n",
    "F = C*9/5 + 32\n",
    "K = C + 273.15\n",
    "R = K*9/5\n",
    "De = (100 - C)*3/2\n",
    "N = C*33/100\n",
    "Ré = C*4/5\n",
    "Rø = C*21/40 + 7.5\n",
    "print(\"華氏溫度為:\",F,\"度\")\n",
    "print(\"克氏溫度為:\",K)\n",
    "print(\"蘭金溫度為:\",R)\n",
    "print(\"德利爾溫度為:\",De,\"度\")\n",
    "print(\"牛頓溫度為:\",N,\"度\")\n",
    "print(\"列氏溫度為:\",Ré,\"度\")\n",
    "print(\"羅氏溫度為:\",Rø,\"度\")"
   ]
  },
  {
   "cell_type": "code",
   "execution_count": null,
   "metadata": {},
   "outputs": [],
   "source": []
  }
 ],
 "metadata": {
  "kernelspec": {
   "display_name": "Python 3",
   "language": "python",
   "name": "python3"
  },
  "language_info": {
   "codemirror_mode": {
    "name": "ipython",
    "version": 3
   },
   "file_extension": ".py",
   "mimetype": "text/x-python",
   "name": "python",
   "nbconvert_exporter": "python",
   "pygments_lexer": "ipython3",
   "version": "3.7.3"
  }
 },
 "nbformat": 4,
 "nbformat_minor": 2
}
