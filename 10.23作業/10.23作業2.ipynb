{
 "cells": [
  {
   "cell_type": "code",
   "execution_count": 2,
   "metadata": {},
   "outputs": [],
   "source": [
    "%matplotlib inline\n",
    "\n",
    "import numpy as np\n",
    "import matplotlib.pyplot as plt\n",
    "import pandas as pd\n",
    "import sympy as sp"
   ]
  },
  {
   "cell_type": "code",
   "execution_count": 34,
   "metadata": {},
   "outputs": [
    {
     "name": "stdout",
     "output_type": "stream",
     "text": [
      "請輸入消費金額\n",
      "今日優惠:單價超過300(含300)之總額將可以享有85折優惠\n",
      "199\n",
      "299\n",
      "99\n",
      "350\n",
      "279\n",
      "560\n",
      "69\n",
      "0\n",
      "您的總額為:1718\n"
     ]
    }
   ],
   "source": [
    "cost = []\n",
    "msg = \"今天的消費\"\n",
    "print(\"請輸入消費金額\")\n",
    "print(\"今日優惠:單價超過300(含300)之總額將可以享有85折優惠\")\n",
    "while(msg!=0):\n",
    "    msg = int(input())\n",
    "    cost.append(msg)\n",
    "g = np.array(cost)\n",
    "print(\"您的總額為:\"+str(int(sum(g[g>=300]*0.85)+int(sum(g[g<300])))))"
   ]
  },
  {
   "cell_type": "code",
   "execution_count": null,
   "metadata": {},
   "outputs": [],
   "source": []
  }
 ],
 "metadata": {
  "kernelspec": {
   "display_name": "Python 3",
   "language": "python",
   "name": "python3"
  },
  "language_info": {
   "codemirror_mode": {
    "name": "ipython",
    "version": 3
   },
   "file_extension": ".py",
   "mimetype": "text/x-python",
   "name": "python",
   "nbconvert_exporter": "python",
   "pygments_lexer": "ipython3",
   "version": "3.7.3"
  }
 },
 "nbformat": 4,
 "nbformat_minor": 2
}
