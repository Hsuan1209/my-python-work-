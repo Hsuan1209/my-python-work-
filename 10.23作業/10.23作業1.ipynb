{
 "cells": [
  {
   "cell_type": "code",
   "execution_count": 20,
   "metadata": {},
   "outputs": [],
   "source": [
    "%matplotlib inline\n",
    "\n",
    "import numpy as np\n",
    "import matplotlib.pyplot as plt\n",
    "import pandas as pd"
   ]
  },
  {
   "cell_type": "code",
   "execution_count": 21,
   "metadata": {},
   "outputs": [],
   "source": [
    "import sympy as sp"
   ]
  },
  {
   "cell_type": "code",
   "execution_count": 32,
   "metadata": {},
   "outputs": [],
   "source": [
    "from numpy.random import randint"
   ]
  },
  {
   "cell_type": "code",
   "execution_count": 54,
   "metadata": {},
   "outputs": [
    {
     "name": "stdout",
     "output_type": "stream",
     "text": [
      "請看題目\n"
     ]
    },
    {
     "data": {
      "text/latex": [
       "$\\displaystyle x^{4} - 6 y$"
      ],
      "text/plain": [
       "x**4 - 6*y"
      ]
     },
     "execution_count": 54,
     "metadata": {},
     "output_type": "execute_result"
    }
   ],
   "source": [
    "from sympy.abc import x,y,a,b\n",
    "print(\"請看題目\")\n",
    "a = randint(2,5)\n",
    "b = randint(6,10)\n",
    "f = x**a - y*b\n",
    "f"
   ]
  },
  {
   "cell_type": "code",
   "execution_count": 55,
   "metadata": {},
   "outputs": [
    {
     "name": "stdout",
     "output_type": "stream",
     "text": [
      "當(x,y)= 4 和 6 時 請問答案是多少?\n",
      "請輸入答案:220\n",
      "恭喜答對\n"
     ]
    }
   ],
   "source": [
    "x = randint(2,6)\n",
    "y = randint(3,7)\n",
    "f = x**a - y*b\n",
    "print(\"當(x,y)=\",x,\"和\",y,\"時\",\"請問答案是多少?\")\n",
    "k = int(input(\"請輸入答案:\"))\n",
    "if k == f:\n",
    "    print(\"恭喜答對\")\n",
    "else:\n",
    "    print(\"答錯!下次加油!\")"
   ]
  },
  {
   "cell_type": "code",
   "execution_count": null,
   "metadata": {},
   "outputs": [],
   "source": []
  }
 ],
 "metadata": {
  "kernelspec": {
   "display_name": "Python 3",
   "language": "python",
   "name": "python3"
  },
  "language_info": {
   "codemirror_mode": {
    "name": "ipython",
    "version": 3
   },
   "file_extension": ".py",
   "mimetype": "text/x-python",
   "name": "python",
   "nbconvert_exporter": "python",
   "pygments_lexer": "ipython3",
   "version": "3.7.3"
  }
 },
 "nbformat": 4,
 "nbformat_minor": 2
}
